{
 "cells": [
  {
   "cell_type": "markdown",
   "id": "a7d2d078-b110-4482-adf9-2c7df2689549",
   "metadata": {},
   "source": [
    "### load and explore "
   ]
  },
  {
   "cell_type": "code",
   "execution_count": 8,
   "id": "ab6a7b9e-2ae3-4cf4-92fa-f3df10b003a0",
   "metadata": {},
   "outputs": [],
   "source": [
    "data_path = './data/Training_data.txt'\n",
    "vocab_path = './data/vocab.txt'"
   ]
  },
  {
   "cell_type": "code",
   "execution_count": 9,
   "id": "435e4135-191f-4d1f-a135-e53b6d31295c",
   "metadata": {},
   "outputs": [],
   "source": [
    "import pandas as pd\n",
    "df = pd.read_csv(data_path,sep='\\t')"
   ]
  },
  {
   "cell_type": "markdown",
   "id": "e037f34e-8945-4d28-8d7b-aded83d5f422",
   "metadata": {},
   "source": [
    "### Stratified Split (train,val,test: 0.6, 0.2, 0.2) "
   ]
  },
  {
   "cell_type": "code",
   "execution_count": 40,
   "id": "6fa72d1e-9ee4-4b71-b9ff-b32faee484d2",
   "metadata": {},
   "outputs": [],
   "source": [
    "# split\n",
    "from matplotlib import pyplot as plt\n",
    "df.columns = ['seq','label']\n",
    "\n",
    "from sklearn.model_selection import train_test_split as tts\n",
    "a = tts(df,test_size=0.2,shuffle=True,stratify=df['label'],random_state=1004)\n",
    "\n",
    "tr,val = tts(a[0],test_size=0.25,shuffle=True,stratify=a[0]['label'],random_state=1004)\n",
    "te = a[1]"
   ]
  },
  {
   "cell_type": "code",
   "execution_count": 83,
   "id": "aa1704c5-8ced-44e0-8d9b-ba4686bd6e08",
   "metadata": {},
   "outputs": [
    {
     "data": {
      "text/plain": [
       "(21834, 7278, 7279)"
      ]
     },
     "execution_count": 83,
     "metadata": {},
     "output_type": "execute_result"
    }
   ],
   "source": [
    "len(tr),len(val),len(te)"
   ]
  },
  {
   "cell_type": "code",
   "execution_count": 89,
   "id": "048dcbc2-aef8-426a-9f1c-2fcd571dad5f",
   "metadata": {},
   "outputs": [],
   "source": [
    "tr.to_csv('./data/split/train.csv',index_label='index')\n",
    "val.to_csv('./data/split/val.csv',index_label='index')\n",
    "te.to_csv('./data/split/test.csv',index_label='index')"
   ]
  },
  {
   "cell_type": "markdown",
   "id": "69095cd6-7864-413e-b1e4-88857947b156",
   "metadata": {
    "tags": []
   },
   "source": [
    "### Dataset & DataLoader for pytorch "
   ]
  },
  {
   "cell_type": "code",
   "execution_count": 12,
   "id": "bf3a3cb7-727f-4708-af92-408da7fd1b4a",
   "metadata": {},
   "outputs": [],
   "source": [
    "def get_vocab_map(vocab_path='./data/vocab.txt'):\n",
    "    with open(vocab_path,'r') as f:\n",
    "        vocab = f.read()\n",
    "\n",
    "    vocab = vocab.replace('\\n','')\n",
    "\n",
    "    import re\n",
    "    p = re.compile('\\s+')\n",
    "    vocab = re.sub(p,' ',vocab)\n",
    "\n",
    "    import ast\n",
    "    vocab = ast.literal_eval(vocab.split('=')[1].strip())\n",
    "\n",
    "    len_vocab = len(vocab)\n",
    "    vocab_map = dict(zip(vocab,range(len_vocab)))\n",
    "    return vocab_map\n",
    "vocab_map =get_vocab_map()\n",
    "\n",
    "import torch\n",
    "from torch.nn import functional as F\n",
    "import pandas as pd\n",
    "class ProteinDataset(torch.utils.data.Dataset):\n",
    "    def __init__(self,path):\n",
    "        self.df = pd.read_csv(path)\n",
    "\n",
    "    def __getitem__(self,idx):\n",
    "        item = self.df.iloc[idx]\n",
    "        x = item['seq']\n",
    "        y = item['label']\n",
    "        \n",
    "        x = self.seq2oneHot(x)\n",
    "        y = torch.tensor(y)\n",
    "        # y = self.label2oneHot(y)\n",
    "        return x,y\n",
    "    \n",
    "    def __len__(self):\n",
    "        return len(self.df)\n",
    "    \n",
    "    def seq2oneHot(self,seq):\n",
    "        seq2int = [ vocab_map[x] for x in list(seq) ]\n",
    "        seq2int = torch.tensor(seq2int)\n",
    "        oneHot = F.one_hot(seq2int,num_classes=len(vocab_map) )\n",
    "        return oneHot\n",
    "    \n",
    "    def label2oneHot(self,label):\n",
    "        return F.one_hot(torch.tensor(label),num_classes=2)\n",
    "    \n",
    "device = 'cuda' if torch.cuda.is_available() else 'cpu'\n",
    "\n",
    "trdt  = ProteinDataset('./data/split/train.csv')\n",
    "valdt = ProteinDataset('./data/split/val.csv')\n",
    "tedt  = ProteinDataset('./data/split/test.csv')\n",
    "\n",
    "trdl  = torch.utils.data.DataLoader(trdt, batch_size=64, num_workers=4)\n",
    "valdl  = torch.utils.data.DataLoader(valdt, batch_size=64, num_workers=4)\n",
    "tedl  = torch.utils.data.DataLoader(tedt, batch_size=64, num_workers=4)"
   ]
  },
  {
   "cell_type": "markdown",
   "id": "88175d20-7900-440d-b160-f3f8b97f72d8",
   "metadata": {
    "tags": []
   },
   "source": [
    "### Model "
   ]
  },
  {
   "cell_type": "markdown",
   "id": "483832a4-5b8a-4f80-af4f-dd28886d69a6",
   "metadata": {},
   "source": [
    "|i|model | used|\n",
    "|---|--------| ----|\n",
    "|0  |ResNet| ✔|\n",
    "|1  | ResNext   |x|\n",
    "|2  | MaxFilterCNN|✔ |\n",
    "|3  | LSTM|     x|\n",
    "|4  |Self-attention|✔ |\n",
    "<!-- |5  ||✔ | -->\n"
   ]
  },
  {
   "cell_type": "markdown",
   "id": "f2c36757-4829-46ba-a0f2-fcd2cd74024f",
   "metadata": {},
   "source": [
    "#### ResNet "
   ]
  },
  {
   "cell_type": "code",
   "execution_count": 2,
   "id": "48228913-0d7c-4b94-93cf-76bfddb339fd",
   "metadata": {},
   "outputs": [],
   "source": [
    "import torchvision\n",
    "\n",
    "### x: b,10,20\n",
    "from torch import nn\n",
    "class ResNet(nn.Module):\n",
    "    def __init__(self):\n",
    "        super(ResNet,self).__init__()\n",
    "        self.backbone = torchvision.models.resnet18(pretrained=True)\n",
    "        in_nodes = self.backbone.fc.in_features\n",
    "        self.backbone.fc = nn.Linear(in_nodes,2)\n",
    "    def forward(self,x):\n",
    "        x = x.to(torch.float)\n",
    "        x = torch.stack([x,x,x],dim=1)\n",
    "        x = self.backbone(x)\n",
    "        return x\n",
    "        "
   ]
  },
  {
   "cell_type": "markdown",
   "id": "72c63765-53b8-4ede-8687-5048a769b3b8",
   "metadata": {},
   "source": [
    "#### ResNext "
   ]
  },
  {
   "cell_type": "code",
   "execution_count": 2,
   "id": "ab1fdab3-c20a-4fcc-93c7-cbfa30ad276f",
   "metadata": {},
   "outputs": [],
   "source": [
    "import torchvision\n",
    "\n",
    "### x: b,10,20\n",
    "from torch import nn\n",
    "class ResNext(nn.Module):\n",
    "    def __init__(self):\n",
    "        super(ResNext,self).__init__()\n",
    "        self.backbone = torchvision.models.resnext50_32x4d(pretrained=True)\n",
    "        in_nodes = self.backbone.fc.in_features\n",
    "        self.backbone.fc = nn.Linear(in_nodes,2)\n",
    "    def forward(self,x):\n",
    "        x = x.to(torch.float)\n",
    "        x = torch.stack([x,x,x],dim=1)\n",
    "        x = self.backbone(x)\n",
    "        return x\n",
    "        "
   ]
  },
  {
   "cell_type": "markdown",
   "id": "f374648c-cb74-46c5-8028-88fa951417d8",
   "metadata": {},
   "source": [
    "#### MaxFilterCNN "
   ]
  },
  {
   "cell_type": "code",
   "execution_count": 2,
   "id": "ae3780bd-c8ec-4336-a26d-cd64656767a0",
   "metadata": {
    "tags": []
   },
   "outputs": [],
   "source": [
    "### x: b,10,20\n",
    "from torch import nn\n",
    "class MaxFilterCNN(nn.Module):\n",
    "    def __init__(self):\n",
    "        super(MaxFilterCNN,self).__init__()\n",
    "        self.maxFconv = nn.Sequential(\n",
    "            nn.Conv2d(1,8,kernel_size=(3,20) ),\n",
    "            nn.BatchNorm2d(8),\n",
    "            nn.ReLU()\n",
    "        )\n",
    "        class squeeze(nn.Module):\n",
    "            def __init__(self):\n",
    "                super(squeeze,self).__init__()\n",
    "            def forward(self,x):\n",
    "                x = x.squeeze(-1)\n",
    "                return x\n",
    "        self.sq = squeeze()\n",
    "        self.conv1d0 = nn.Sequential(\n",
    "                    nn.Conv1d(8,8,kernel_size=3),\n",
    "                    # nn.MaxPool1d(2),\n",
    "                    nn.BatchNorm1d(8),\n",
    "                    nn.ReLU()\n",
    "                )\n",
    "        self.conv1d1 = nn.Sequential(\n",
    "                    nn.Conv1d(8,8,kernel_size=2),\n",
    "                    # nn.MaxPool1d(2),\n",
    "                    nn.BatchNorm1d(8),\n",
    "                    nn.ReLU()\n",
    "                )\n",
    "\n",
    "        mli = nn.ModuleList([self.maxFconv,self.sq,self.conv1d0,self.conv1d1])\n",
    "        sample = torch.rand(1,1,10,20)\n",
    "        for f in mli:\n",
    "            sample = f(sample)\n",
    "        b,c,l = sample.shape\n",
    "        num_node  = c*l \n",
    "\n",
    "        self.last = nn.Sequential(\n",
    "                    nn.Flatten(),\n",
    "                    nn.Linear(num_node,2)\n",
    "                )\n",
    "    def forward(self,x):\n",
    "        x = x.to(torch.float)\n",
    "        x = x.unsqueeze(1)\n",
    "        x = self.maxFconv(x)\n",
    "        x = self.sq(x)\n",
    "        x = self.conv1d0(x)\n",
    "        x = self.conv1d1(x)\n",
    "        x = self.last(x)\n",
    "        return x\n",
    "        "
   ]
  },
  {
   "cell_type": "markdown",
   "id": "1fa769e9-7712-469f-8608-5411755b7637",
   "metadata": {
    "tags": []
   },
   "source": [
    "####  LSTM"
   ]
  },
  {
   "cell_type": "code",
   "execution_count": 2,
   "id": "cb5690e1-4658-439b-ab87-4949e17c8335",
   "metadata": {},
   "outputs": [],
   "source": [
    "import torchvision\n",
    "\n",
    "### x: b,10,20\n",
    "from torch import nn\n",
    "class lstm(nn.Module):\n",
    "    def __init__(self):\n",
    "        super(lstm,self).__init__()\n",
    "        self.lstm0 = nn.LSTM(input_size = 20, hidden_size = 20,num_layers=1, batch_first=True)\n",
    "        self.lstm1 = nn.LSTM(input_size = 20, hidden_size = 20,num_layers=1, batch_first=True)\n",
    "        self.fc = nn.Linear(20,2)\n",
    "        \n",
    "    def forward(self,x):\n",
    "        x        = x.to(torch.float)\n",
    "        x,(h,c)  = self.lstm0(x)\n",
    "        al,(x,c) = self.lstm1(x)\n",
    "        x        = x.transpose(0,1)\n",
    "        x        = x.squeeze()\n",
    "        x        = self.fc(x)\n",
    "        return x\n",
    "        "
   ]
  },
  {
   "cell_type": "markdown",
   "id": "672b8ea5-e2d0-4ab5-ac6c-551c21b6b3b0",
   "metadata": {
    "tags": []
   },
   "source": [
    "####  Self-attention"
   ]
  },
  {
   "cell_type": "code",
   "execution_count": 2,
   "id": "114b7adc-5408-4cd0-94f7-d38bfc3b5975",
   "metadata": {},
   "outputs": [],
   "source": [
    "import torchvision\n",
    "\n",
    "### x: b,10,20\n",
    "from torch import nn\n",
    "class attns(nn.Module):\n",
    "    def __init__(self):\n",
    "        super(attns,self).__init__()\n",
    "        self.attn0 = nn.TransformerEncoderLayer(d_model=20, nhead=4,batch_first=True)\n",
    "        self.attn1 = nn.TransformerEncoderLayer(d_model=20, nhead=4,batch_first=True)\n",
    "        self.flat  = nn.Flatten()\n",
    "        self.fc    = nn.Sequential(\n",
    "            nn.Linear(200,100),\n",
    "            nn.ReLU(),\n",
    "            nn.Linear(100,2)\n",
    "        )\n",
    "        \n",
    "    def forward(self,x):\n",
    "        x = x.to(torch.float)\n",
    "        x = self.attn0(x)+x\n",
    "        x = self.attn1(x)+x\n",
    "        x = self.flat(x)\n",
    "        x = self.fc(x)\n",
    "        return x\n",
    "        "
   ]
  },
  {
   "cell_type": "markdown",
   "id": "35587ad3-3f03-4b38-95fe-622521ea2dc1",
   "metadata": {},
   "source": [
    "#### Vision transformer "
   ]
  },
  {
   "cell_type": "code",
   "execution_count": 20,
   "id": "a5d3639f-4435-4321-806b-ff1d2edb9e9d",
   "metadata": {},
   "outputs": [],
   "source": [
    "import torchvision\n",
    "\n",
    "### x: b,10,20\n",
    "import timm\n",
    "from torch import nn\n",
    "class Vit(nn.Module):\n",
    "    def __init__(self):\n",
    "        super(Vit,self).__init__()\n",
    "        self.backbone = timm.create_model('visformer_small', pretrained=True)\n",
    "        new_head = nn.Sequential(\n",
    "            nn.Linear(self.backbone.head.in_features,50),\n",
    "            nn.Linear(50,2))\n",
    "        self.backbone.head = new_head\n",
    "        \n",
    "    def forward(self,x):\n",
    "        x = x.to(torch.float)\n",
    "        x = torch.stack([x,x,x],dim=1)\n",
    "        x = self.backbone(x)\n",
    "        return x\n",
    "        "
   ]
  },
  {
   "cell_type": "markdown",
   "id": "6fcd8df6-9379-4c95-98a3-ade4e28bdb23",
   "metadata": {},
   "source": [
    "### settings "
   ]
  },
  {
   "cell_type": "code",
   "execution_count": 8,
   "id": "2bc18a5f-18b7-4aa1-b3ad-635320ed424a",
   "metadata": {},
   "outputs": [],
   "source": [
    "it = iter(trdl)\n",
    "x,y = next(it)"
   ]
  },
  {
   "cell_type": "code",
   "execution_count": 21,
   "id": "e90ae2ca-c222-436a-958f-ce847d705c12",
   "metadata": {},
   "outputs": [
    {
     "name": "stderr",
     "output_type": "stream",
     "text": [
      "Downloading: \"https://github.com/rwightman/pytorch-image-models/releases/download/v0.1-vt3p-weights/visformer_small-839e1f5b.pth\" to /home/yp/.cache/torch/hub/checkpoints/visformer_small-839e1f5b.pth\n"
     ]
    }
   ],
   "source": [
    "model = 'vit'\n",
    "\n",
    "model = model.lower()\n",
    "if model.startswith('maxfil'):\n",
    "    model = MaxFilterCNN().to(device)\n",
    "elif model.startswith('resnet'):\n",
    "    model = ResNet().to(device)\n",
    "elif model.startswith('resnext'):\n",
    "    model = ResNext().to(device)\n",
    "elif model.startswith('attn'):\n",
    "    model = attns().to(device)\n",
    "elif model.startswith('lstm'):\n",
    "    model = lstm().to(device)\n",
    "elif model.startswith('vit'):\n",
    "    model = Vit().to(device)    \n",
    "    \n",
    "loss = nn.CrossEntropyLoss()\n",
    "params = [p for p in model.parameters() if p.requires_grad]\n",
    "opt  = torch.optim.Adam(params)"
   ]
  },
  {
   "cell_type": "markdown",
   "id": "63d234a8-49b6-4d87-84e4-7ee93dd856a3",
   "metadata": {},
   "source": [
    "### train/val/test "
   ]
  },
  {
   "cell_type": "code",
   "execution_count": 22,
   "id": "c88e7db0-ff9d-47a5-9c79-5edf46b650e6",
   "metadata": {},
   "outputs": [],
   "source": [
    "def train(dl,model,lossf,opt):\n",
    "    model.train()\n",
    "    for x,y in dl:\n",
    "        x,y = x.to(device),y.to(device)\n",
    "        pre = model(x)\n",
    "        loss = lossf(pre,y)\n",
    "\n",
    "        opt.zero_grad()\n",
    "        loss.backward()\n",
    "        opt.step()\n",
    "\n",
    "def test(dl,model,lossf,epoch=None):\n",
    "    model.eval()\n",
    "    size, acc , losses = len(dl.dataset) ,0,0\n",
    "    with torch.no_grad():\n",
    "        for x,y in dl:\n",
    "            x,y = x.to(device),y.to(device)\n",
    "            pre = model(x)\n",
    "            loss = lossf(pre,y)\n",
    "    \n",
    "            acc += (pre.argmax(1)==y).type(torch.float).sum().item()\n",
    "            losses += loss.item()\n",
    "    accuracy = round(acc/size,4)\n",
    "    val_loss = round(losses/size,6)\n",
    "    print(f'[{epoch}] acc/loss: {accuracy}/{val_loss}')\n",
    "    return accuracy,val_loss\n",
    "\n",
    "import copy\n",
    "patience = 5\n",
    "val_losses = {0:1}\n",
    "for i in range(100):\n",
    "    train(trdl,model,loss,opt)\n",
    "    acc,val_loss = test(valdl,model,loss,i)\n",
    "    \n",
    "    \n",
    "    if min(val_losses.values() ) > val_loss:\n",
    "        val_losses[i] = val_loss\n",
    "        best_model = copy.deepcopy(model)\n",
    "    if i == min(val_losses,key=val_losses.get)+patience:\n",
    "        break"
   ]
  },
  {
   "cell_type": "code",
   "execution_count": 7,
   "id": "ba732adb-1f85-48b5-89a6-3d096cc92143",
   "metadata": {},
   "outputs": [
    {
     "name": "stdout",
     "output_type": "stream",
     "text": [
      "[None] acc/loss: 0.855/0.005422\n"
     ]
    },
    {
     "data": {
      "text/plain": [
       "(0.855, 0.005422)"
      ]
     },
     "execution_count": 7,
     "metadata": {},
     "output_type": "execute_result"
    }
   ],
   "source": [
    "test(valdl,best_model,loss)"
   ]
  },
  {
   "cell_type": "code",
   "execution_count": 8,
   "id": "3f343c78-4341-432d-8327-88fa3d171dfa",
   "metadata": {},
   "outputs": [
    {
     "name": "stdout",
     "output_type": "stream",
     "text": [
      "[None] acc/loss: 0.8479/0.005516\n"
     ]
    },
    {
     "data": {
      "text/plain": [
       "(0.8479, 0.005516)"
      ]
     },
     "execution_count": 8,
     "metadata": {},
     "output_type": "execute_result"
    }
   ],
   "source": [
    "test(tedl,best_model,loss)"
   ]
  },
  {
   "cell_type": "markdown",
   "id": "ea9b8322-e21e-4377-9ae4-c1c767e1ff83",
   "metadata": {},
   "source": [
    "### Evaluate "
   ]
  },
  {
   "cell_type": "code",
   "execution_count": 13,
   "id": "52f4958e-b57e-44db-a27c-0be15cc825db",
   "metadata": {},
   "outputs": [
    {
     "name": "stdout",
     "output_type": "stream",
     "text": [
      "{'acc': 0.8479186701469982, 'recall': 0.7309397163120568, 'precision': 0.7673336435551419, 'f1': 0.748694665153235, 'confusion': array([[4523,  500],\n",
      "       [ 607, 1649]]), 'loss': 0.005515566614404913}\n"
     ]
    }
   ],
   "source": [
    "from sklearn.metrics import accuracy_score \n",
    "from sklearn.metrics import recall_score \n",
    "from sklearn.metrics import precision_score \n",
    "from sklearn.metrics import f1_score \n",
    "# from sklearn.metrics import make_scorer\n",
    "# from sklearn.metrics import classification_report\n",
    "from sklearn.metrics import confusion_matrix \n",
    "\n",
    "def evaluate(dl,model,lossf,epoch=None):\n",
    "    model.eval()\n",
    "    size, _ , losses = len(dl.dataset) ,0,0\n",
    "    pre_l,gt_l = [],[]\n",
    "    with torch.no_grad():\n",
    "        for x,y in dl:\n",
    "            x,y = x.to(device),y.to(device)\n",
    "            pre = model(x)\n",
    "            loss = lossf(pre,y)\n",
    "            \n",
    "            losses += loss.item()\n",
    "            pre_l.extend(pre.argmax(1).cpu().numpy().tolist())\n",
    "            gt_l .extend(y.cpu().numpy().tolist())\n",
    "    \n",
    "    loss     = losses/size\n",
    "    acc      = accuracy_score(gt_l,pre_l)\n",
    "    recall   = recall_score(gt_l,pre_l)\n",
    "    precision= precision_score(gt_l,pre_l)\n",
    "    f1       = f1_score(gt_l,pre_l)\n",
    "    confusion= confusion_matrix(gt_l,pre_l)\n",
    "\n",
    "    metrics = {'acc':acc,'recall':recall,'precision':precision,'f1':f1,'confusion':confusion,'loss':loss}\n",
    "    return metrics\n",
    "\n",
    "print(evaluate(tedl,best_model,loss))"
   ]
  },
  {
   "cell_type": "markdown",
   "id": "a030b5ce-dd68-4f76-9d09-b384f6a527e7",
   "metadata": {},
   "source": [
    "## ETC "
   ]
  },
  {
   "cell_type": "markdown",
   "id": "cb905108-40e2-4855-9191-7b8ccbd0ac45",
   "metadata": {},
   "source": [
    "### Save model "
   ]
  },
  {
   "cell_type": "code",
   "execution_count": 26,
   "id": "f1bb3ca7-8eb9-4563-96fd-927932fbebed",
   "metadata": {},
   "outputs": [],
   "source": [
    "import os\n",
    "model_name = f\"{best_model.__str__().split('(')[0]}_{max(val_losses)}.pt\"\n",
    "model_path = os.path.join('./models',model_name) \n",
    "torch.save(best_model.state_dict(),model_path)"
   ]
  },
  {
   "cell_type": "markdown",
   "id": "9639fb38-4e89-4d5f-addb-94f2d9bbba72",
   "metadata": {},
   "source": [
    "### load saved models and evaluate them "
   ]
  },
  {
   "cell_type": "code",
   "execution_count": 50,
   "id": "4c1bedf0-d5f4-4778-8793-aa0ee30ce216",
   "metadata": {},
   "outputs": [],
   "source": [
    "files = os.listdir('./models')\n",
    "\n",
    "model_paths = [os.path.join('./models',file) for file in files if file.endswith('.pt')]\n",
    "\n",
    "import os\n",
    "from models import * \n",
    "results = {}\n",
    "\n",
    "for m_path in model_paths:\n",
    "    model_name = os.path.basename(m_path).split('_')[0]\n",
    "    model_name = model_name.lower()\n",
    "    \n",
    "    model = model_name\n",
    "\n",
    "    model = model.lower()\n",
    "    if model.startswith('maxfil') :\n",
    "        model = MaxFilterCNN().to(device)\n",
    "    elif model.startswith('resnet'):\n",
    "        model = ResNet().to(device)\n",
    "    elif model.startswith('resnext'):\n",
    "        model = ResNext().to(device)\n",
    "    elif model.startswith('attn'):\n",
    "        model = attns().to(device)\n",
    "    elif model.startswith('lstm'):\n",
    "        model = lstm().to(device)\n",
    "    \n",
    "    \n",
    "    model.load_state_dict(torch.load(m_path))\n",
    "    \n",
    "    loss = nn.CrossEntropyLoss()\n",
    "    \n",
    "    result = evaluate(tedl,model,loss)\n",
    "    \n",
    "    print(f'{model_name}: {result}')\n",
    "    results[model_name] = result\n",
    "\n",
    "import pandas as pd\n",
    "df  = pd.DataFrame(results).T\n",
    "\n",
    "models = [os.path.splitext( os.path.basename(path) )[0] for path in model_paths]\n",
    "\n",
    "df.to_csv(f\"assets/{'&'.join(models)}.csv\")"
   ]
  },
  {
   "cell_type": "markdown",
   "id": "3be0af7c-fe65-4bcd-a996-8793a9a4bafa",
   "metadata": {},
   "source": [
    "### Inference "
   ]
  },
  {
   "cell_type": "code",
   "execution_count": 125,
   "id": "79e7993a-79ee-416b-8be6-99b485a93023",
   "metadata": {},
   "outputs": [],
   "source": [
    "def get_seqStr(path = './data/sample.txt'):\n",
    "    with open(path,'r',encoding='utf8') as f:\n",
    "        x_list = f.readlines()\n",
    "\n",
    "    x_list = list(map(lambda x:x.replace('\\n',''),x_list ) )\n",
    "    return x_list\n",
    "\n",
    "def seq2oneHot(seq):\n",
    "    seq2int = [ vocab_map[x] for x in seq ]\n",
    "    seq2int = torch.tensor(seq2int)\n",
    "    oneHot = F.one_hot(seq2int,num_classes=len(vocab_map) )\n",
    "    return oneHot\n",
    "\n",
    "def seq_list2oneHot(seq_list):\n",
    "    tensor_list = list(map(seq2oneHot,seq_list))\n",
    "    seq_tensor = torch.stack(seq_tensor_list)\n",
    "    return seq_tensor\n"
   ]
  },
  {
   "cell_type": "code",
   "execution_count": 132,
   "id": "0c2a3f0d-43c0-4501-bfbe-c616063e1d80",
   "metadata": {},
   "outputs": [],
   "source": [
    "x = seq_list2oneHot(get_seqStr()).to(device)"
   ]
  },
  {
   "cell_type": "code",
   "execution_count": 134,
   "id": "ab16bba2-e7dc-4996-a153-cb461633e254",
   "metadata": {},
   "outputs": [],
   "source": [
    "y = model(x)\n",
    "y = y.argmax(1)\n",
    "y = y.cpu().numpy().tolist()"
   ]
  },
  {
   "cell_type": "code",
   "execution_count": 137,
   "id": "da34fede-59ec-4abd-932c-cfde8b5f35ae",
   "metadata": {},
   "outputs": [],
   "source": [
    "# save output\n",
    "y = list(map(str,y))\n",
    "dirname = os.path.dirname(path)\n",
    "fname   = os.path.basename(path).split('.')[0]\n",
    "savep   = os.path.join(dirname,f'{fname}_out.csv')\n",
    "with open(savep,'w') as f:\n",
    "    f.write('\\n'.join(y) )"
   ]
  }
 ],
 "metadata": {
  "kernelspec": {
   "display_name": "torch",
   "language": "python",
   "name": "torch"
  },
  "language_info": {
   "codemirror_mode": {
    "name": "ipython",
    "version": 3
   },
   "file_extension": ".py",
   "mimetype": "text/x-python",
   "name": "python",
   "nbconvert_exporter": "python",
   "pygments_lexer": "ipython3",
   "version": "3.6.13"
  }
 },
 "nbformat": 4,
 "nbformat_minor": 5
}
