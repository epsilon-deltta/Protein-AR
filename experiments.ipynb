{
 "cells": [
  {
   "cell_type": "markdown",
   "id": "a7d2d078-b110-4482-adf9-2c7df2689549",
   "metadata": {},
   "source": [
    "### load and explore "
   ]
  },
  {
   "cell_type": "code",
   "execution_count": 8,
   "id": "ab6a7b9e-2ae3-4cf4-92fa-f3df10b003a0",
   "metadata": {},
   "outputs": [],
   "source": [
    "data_path = './data/Training_data.txt'\n",
    "vocab_path = './data/vocab.txt'"
   ]
  },
  {
   "cell_type": "code",
   "execution_count": 9,
   "id": "435e4135-191f-4d1f-a135-e53b6d31295c",
   "metadata": {},
   "outputs": [],
   "source": [
    "import pandas as pd\n",
    "df = pd.read_csv(data_path,sep='\\t')"
   ]
  },
  {
   "cell_type": "markdown",
   "id": "e037f34e-8945-4d28-8d7b-aded83d5f422",
   "metadata": {},
   "source": [
    "### Stratified Split (train,val,test: 0.6, 0.2, 0.2) "
   ]
  },
  {
   "cell_type": "code",
   "execution_count": 40,
   "id": "6fa72d1e-9ee4-4b71-b9ff-b32faee484d2",
   "metadata": {},
   "outputs": [],
   "source": [
    "# split\n",
    "from matplotlib import pyplot as plt\n",
    "df.columns = ['seq','label']\n",
    "\n",
    "from sklearn.model_selection import train_test_split as tts\n",
    "a = tts(df,test_size=0.2,shuffle=True,stratify=df['label'],random_state=1004)\n",
    "\n",
    "tr,val = tts(a[0],test_size=0.25,shuffle=True,stratify=a[0]['label'],random_state=1004)\n",
    "te = a[1]"
   ]
  },
  {
   "cell_type": "code",
   "execution_count": 83,
   "id": "aa1704c5-8ced-44e0-8d9b-ba4686bd6e08",
   "metadata": {},
   "outputs": [
    {
     "data": {
      "text/plain": [
       "(21834, 7278, 7279)"
      ]
     },
     "execution_count": 83,
     "metadata": {},
     "output_type": "execute_result"
    }
   ],
   "source": [
    "len(tr),len(val),len(te)"
   ]
  },
  {
   "cell_type": "code",
   "execution_count": 89,
   "id": "048dcbc2-aef8-426a-9f1c-2fcd571dad5f",
   "metadata": {},
   "outputs": [],
   "source": [
    "tr.to_csv('./data/split/train.csv',index_label='index')\n",
    "val.to_csv('./data/split/val.csv',index_label='index')\n",
    "te.to_csv('./data/split/test.csv',index_label='index')"
   ]
  },
  {
   "cell_type": "markdown",
   "id": "69095cd6-7864-413e-b1e4-88857947b156",
   "metadata": {
    "tags": []
   },
   "source": [
    "### Dataset & DataLoader for pytorch "
   ]
  },
  {
   "cell_type": "code",
   "execution_count": 14,
   "id": "f4320201-34da-49cd-82d0-08f2c444bf5c",
   "metadata": {},
   "outputs": [],
   "source": [
    "transform = 'onehot'\n",
    "batch_size = 16 # 64\n",
    "def get_vocab_map(vocab_path='./data/vocab.txt'):\n",
    "    with open(vocab_path,'r') as f:\n",
    "        vocab = f.read()\n",
    "\n",
    "    vocab = vocab.replace('\\n','')\n",
    "\n",
    "    import re\n",
    "    p = re.compile('\\s+')\n",
    "    vocab = re.sub(p,' ',vocab)\n",
    "\n",
    "    import ast\n",
    "    vocab = ast.literal_eval(vocab.split('=')[1].strip())\n",
    "\n",
    "    len_vocab = len(vocab)\n",
    "    vocab_map = dict(zip(vocab,range(len_vocab)))\n",
    "    return vocab_map\n",
    "vocab_map =get_vocab_map()\n",
    "\n",
    "import torch\n",
    "from torch.nn import functional as F\n",
    "import pandas as pd\n",
    "class ProteinDataset(torch.utils.data.Dataset):\n",
    "    def __init__(self,path,transform='oneHot',onlyOne=False):\n",
    "        self.df        = pd.read_csv(path)\n",
    "        if type(transform) == str:\n",
    "            self.transform = transform.lower()\n",
    "        else:\n",
    "            self.transform = transform\n",
    "        \n",
    "        if onlyOne:\n",
    "            self.df = self.df[self.df.label == 1]\n",
    "            \n",
    "    def __getitem__(self,idx):\n",
    "        item = self.df.iloc[idx]\n",
    "        x = item['seq']\n",
    "        y = item['label']\n",
    "        \n",
    "        if self.transform == 'onehot':\n",
    "            x = self.seq2oneHot(x)\n",
    "        elif self.transform is None:\n",
    "            x = self.seq2int(x)\n",
    "        elif self.transform == 'ae':\n",
    "            x = self.seq2oneHot(x)\n",
    "            y = x \n",
    "            return x,y\n",
    "            \n",
    "        y = torch.tensor(y)\n",
    "        # y = self.label2oneHot(y)\n",
    "        return x,y\n",
    "    \n",
    "    def __len__(self):\n",
    "        return len(self.df)\n",
    "    \n",
    "    def seq2int(self,seq):\n",
    "        seq2int = [ vocab_map[x] for x in list(seq) ]\n",
    "        seq2int = torch.tensor(seq2int)\n",
    "        return seq2int\n",
    "    \n",
    "    def seq2oneHot(self,seq): # 'ABCDE..' -> OneHot (10,20) \n",
    "        seq2int = self.seq2int(seq)\n",
    "        oneHot = F.one_hot(seq2int,num_classes=len(vocab_map) )\n",
    "        return oneHot\n",
    "    \n",
    "    def label2oneHot(self,label):\n",
    "        return F.one_hot(torch.tensor(label),num_classes=2)\n",
    "    \n",
    "device = 'cuda' if torch.cuda.is_available() else 'cpu'\n",
    "\n",
    "trdt  = ProteinDataset('./data/split/train.csv',transform=transform)\n",
    "valdt = ProteinDataset('./data/split/val.csv'  ,transform=transform)\n",
    "tedt  = ProteinDataset('./data/split/test.csv' ,transform=transform)\n",
    "\n",
    "trdl  = torch.utils.data.DataLoader(trdt, batch_size=batch_size, num_workers=4)\n",
    "valdl  = torch.utils.data.DataLoader(valdt, batch_size=batch_size, num_workers=4)\n",
    "tedl  = torch.utils.data.DataLoader(tedt, batch_size=batch_size, num_workers=4)"
   ]
  },
  {
   "cell_type": "markdown",
   "id": "88175d20-7900-440d-b160-f3f8b97f72d8",
   "metadata": {
    "tags": []
   },
   "source": [
    "### Model "
   ]
  },
  {
   "cell_type": "markdown",
   "id": "483832a4-5b8a-4f80-af4f-dd28886d69a6",
   "metadata": {},
   "source": [
    "|i|model | used|\n",
    "|---|--------| ----|\n",
    "|0  |ResNet| ✔|\n",
    "|1  | ResNext   |x|\n",
    "|2  | MaxFilterCNN|✔ |\n",
    "|3  | LSTM|     x|\n",
    "|4  |Self-attention|✔ |\n",
    "<!-- |5  ||✔ | -->\n"
   ]
  },
  {
   "cell_type": "markdown",
   "id": "f2c36757-4829-46ba-a0f2-fcd2cd74024f",
   "metadata": {},
   "source": [
    "#### ResNet "
   ]
  },
  {
   "cell_type": "code",
   "execution_count": 2,
   "id": "48228913-0d7c-4b94-93cf-76bfddb339fd",
   "metadata": {},
   "outputs": [],
   "source": [
    "import torchvision\n",
    "\n",
    "### x: b,10,20\n",
    "from torch import nn\n",
    "class ResNet(nn.Module):\n",
    "    def __init__(self):\n",
    "        super(ResNet,self).__init__()\n",
    "        self.backbone = torchvision.models.resnet18(pretrained=True)\n",
    "        in_nodes = self.backbone.fc.in_features\n",
    "        self.backbone.fc = nn.Linear(in_nodes,2)\n",
    "    def forward(self,x):\n",
    "        x = x.to(torch.float)\n",
    "        x = torch.stack([x,x,x],dim=1)\n",
    "        x = self.backbone(x)\n",
    "        return x\n",
    "        "
   ]
  },
  {
   "cell_type": "markdown",
   "id": "72c63765-53b8-4ede-8687-5048a769b3b8",
   "metadata": {},
   "source": [
    "#### ResNext "
   ]
  },
  {
   "cell_type": "code",
   "execution_count": 2,
   "id": "ab1fdab3-c20a-4fcc-93c7-cbfa30ad276f",
   "metadata": {},
   "outputs": [],
   "source": [
    "import torchvision\n",
    "\n",
    "### x: b,10,20\n",
    "from torch import nn\n",
    "class ResNext(nn.Module):\n",
    "    def __init__(self):\n",
    "        super(ResNext,self).__init__()\n",
    "        self.backbone = torchvision.models.resnext50_32x4d(pretrained=True)\n",
    "        in_nodes = self.backbone.fc.in_features\n",
    "        self.backbone.fc = nn.Linear(in_nodes,2)\n",
    "    def forward(self,x):\n",
    "        x = x.to(torch.float)\n",
    "        x = torch.stack([x,x,x],dim=1)\n",
    "        x = self.backbone(x)\n",
    "        return x\n",
    "        "
   ]
  },
  {
   "cell_type": "markdown",
   "id": "f374648c-cb74-46c5-8028-88fa951417d8",
   "metadata": {},
   "source": [
    "#### MaxFilterCNN "
   ]
  },
  {
   "cell_type": "code",
   "execution_count": 2,
   "id": "ae3780bd-c8ec-4336-a26d-cd64656767a0",
   "metadata": {
    "tags": []
   },
   "outputs": [],
   "source": [
    "### x: b,10,20\n",
    "from torch import nn\n",
    "class MaxFilterCNN(nn.Module):\n",
    "    def __init__(self):\n",
    "        super(MaxFilterCNN,self).__init__()\n",
    "        self.maxFconv = nn.Sequential(\n",
    "            nn.Conv2d(1,8,kernel_size=(3,20) ),\n",
    "            nn.BatchNorm2d(8),\n",
    "            nn.ReLU()\n",
    "        )\n",
    "        class squeeze(nn.Module):\n",
    "            def __init__(self):\n",
    "                super(squeeze,self).__init__()\n",
    "            def forward(self,x):\n",
    "                x = x.squeeze(-1)\n",
    "                return x\n",
    "        self.sq = squeeze()\n",
    "        self.conv1d0 = nn.Sequential(\n",
    "                    nn.Conv1d(8,8,kernel_size=3),\n",
    "                    # nn.MaxPool1d(2),\n",
    "                    nn.BatchNorm1d(8),\n",
    "                    nn.ReLU()\n",
    "                )\n",
    "        self.conv1d1 = nn.Sequential(\n",
    "                    nn.Conv1d(8,8,kernel_size=2),\n",
    "                    # nn.MaxPool1d(2),\n",
    "                    nn.BatchNorm1d(8),\n",
    "                    nn.ReLU()\n",
    "                )\n",
    "\n",
    "        mli = nn.ModuleList([self.maxFconv,self.sq,self.conv1d0,self.conv1d1])\n",
    "        sample = torch.rand(1,1,10,20)\n",
    "        for f in mli:\n",
    "            sample = f(sample)\n",
    "        b,c,l = sample.shape\n",
    "        num_node  = c*l \n",
    "\n",
    "        self.last = nn.Sequential(\n",
    "                    nn.Flatten(),\n",
    "                    nn.Linear(num_node,2)\n",
    "                )\n",
    "    def forward(self,x):\n",
    "        x = x.to(torch.float)\n",
    "        x = x.unsqueeze(1)\n",
    "        x = self.maxFconv(x)\n",
    "        x = self.sq(x)\n",
    "        x = self.conv1d0(x)\n",
    "        x = self.conv1d1(x)\n",
    "        x = self.last(x)\n",
    "        return x\n",
    "        "
   ]
  },
  {
   "cell_type": "markdown",
   "id": "1fa769e9-7712-469f-8608-5411755b7637",
   "metadata": {
    "tags": []
   },
   "source": [
    "####  LSTM"
   ]
  },
  {
   "cell_type": "markdown",
   "id": "f18b40d6-8cef-4ac6-a7cf-6fb4a1126f71",
   "metadata": {},
   "source": [
    "##### lstm (w/ OH) "
   ]
  },
  {
   "cell_type": "code",
   "execution_count": 2,
   "id": "cb5690e1-4658-439b-ab87-4949e17c8335",
   "metadata": {},
   "outputs": [],
   "source": [
    "# lstm: /w oneHot encoding\n",
    "import torchvision\n",
    "\n",
    "### x: b,10,20\n",
    "from torch import nn\n",
    "class lstm(nn.Module):\n",
    "    def __init__(self):\n",
    "        super(lstm,self).__init__()\n",
    "        self.lstm0 = nn.LSTM(input_size = 20, hidden_size = 20,num_layers=1, batch_first=True)\n",
    "        self.lstm1 = nn.LSTM(input_size = 20, hidden_size = 20,num_layers=1, batch_first=True)\n",
    "        self.fc = nn.Linear(20,2)\n",
    "        \n",
    "    def forward(self,x):\n",
    "        x        = x.to(torch.float)\n",
    "        x,(h,c)  = self.lstm0(x)\n",
    "        al,(x,c) = self.lstm1(x)\n",
    "        x        = x.transpose(0,1)\n",
    "        x        = x.squeeze()\n",
    "        x        = self.fc(x)\n",
    "        return x\n",
    "        "
   ]
  },
  {
   "cell_type": "markdown",
   "id": "cce6dac0-c7f9-46cc-afea-a562adc47bd1",
   "metadata": {},
   "source": [
    "##### lstm0 (w/o OH) "
   ]
  },
  {
   "cell_type": "code",
   "execution_count": 62,
   "id": "da4ad3b4-cd62-45c8-b747-23e2f3b3c24c",
   "metadata": {},
   "outputs": [],
   "source": [
    "# lstm0: /wo oneHot encoding\n",
    "import torchvision\n",
    "\n",
    "### x: b,10,20\n",
    "from torch import nn\n",
    "class lstm0(nn.Module):\n",
    "    def __init__(self):\n",
    "        super(lstm0,self).__init__()\n",
    "        self.lstm0 = nn.LSTM(input_size = 1, hidden_size = 10,num_layers=1, batch_first=True)\n",
    "        self.lstm1 = nn.LSTM(input_size = 10, hidden_size = 10,num_layers=1, batch_first=True)\n",
    "        self.fc = nn.Linear(10,2)\n",
    "        \n",
    "    def forward(self,x):\n",
    "        x        = x.to(torch.float)\n",
    "        \n",
    "        x        = x.unsqueeze(-1)\n",
    "        x,(h,c)  = self.lstm0(x)\n",
    "        al,(x,c) = self.lstm1(x)\n",
    "        x        = x.transpose(0,1)\n",
    "        x        = x.squeeze()\n",
    "        x        = self.fc(x)\n",
    "        return x\n",
    "        "
   ]
  },
  {
   "cell_type": "markdown",
   "id": "200c0f73-caba-4c31-b453-6273e7907f65",
   "metadata": {},
   "source": [
    "##### lstm1 (w/ embedding) "
   ]
  },
  {
   "cell_type": "code",
   "execution_count": 126,
   "id": "60b82859-c073-4631-b16b-431c5429b62f",
   "metadata": {},
   "outputs": [],
   "source": [
    "# lstm: /w oneHot encoding\n",
    "import torchvision\n",
    "\n",
    "### x: b,10,20\n",
    "from torch import nn\n",
    "class lstm1(nn.Module):\n",
    "    def __init__(self):\n",
    "        super(lstm1,self).__init__()\n",
    "        self.emb   = nn.Embedding(20,20)\n",
    "        self.lstm0 = nn.LSTM(input_size = 20, hidden_size = 20,num_layers=1, batch_first=True)\n",
    "        self.lstm1 = nn.LSTM(input_size = 20, hidden_size = 20,num_layers=1, batch_first=True)\n",
    "        self.fc = nn.Linear(20,2)\n",
    "        \n",
    "    def forward(self,x):\n",
    "        x        = self.emb(x)\n",
    "        x,(h,c)  = self.lstm0(x)\n",
    "        al,(x,c) = self.lstm1(x)\n",
    "        x        = x.transpose(0,1)\n",
    "        x        = x.squeeze()\n",
    "        x        = self.fc(x)\n",
    "        return x\n",
    "        "
   ]
  },
  {
   "cell_type": "markdown",
   "id": "3bc2d189-27e4-428b-8179-2d53048a582f",
   "metadata": {},
   "source": [
    "##### lstm2 (w/ emb + positional embedding) "
   ]
  },
  {
   "cell_type": "code",
   "execution_count": null,
   "id": "2433224a-6cd4-4aae-98c5-cedba644801a",
   "metadata": {},
   "outputs": [],
   "source": [
    "from models import PostionalEncoding\n",
    "pe = PostionalEncoding(10,20)"
   ]
  },
  {
   "cell_type": "code",
   "execution_count": 3,
   "id": "0a8e2e68-07df-4403-a37f-c4a67c0548c7",
   "metadata": {},
   "outputs": [],
   "source": [
    "# lstm: /w oneHot encoding\n",
    "import torchvision\n",
    "from models import PostionalEncoding\n",
    "### x: b,10,20\n",
    "from torch import nn\n",
    "class lstm2(nn.Module):\n",
    "    def __init__(self):\n",
    "        super(lstm2,self).__init__()\n",
    "        self.emb   = nn.Embedding(20,20)\n",
    "        self.pe    = PostionalEncoding(max_len=10,d_model=20,device=device)\n",
    "        self.lstm0 = nn.LSTM(input_size = 20, hidden_size = 20,num_layers=1, batch_first=True)\n",
    "        self.lstm1 = nn.LSTM(input_size = 20, hidden_size = 20,num_layers=1, batch_first=True)\n",
    "        self.fc = nn.Linear(20,2)\n",
    "        \n",
    "    def forward(self,x):\n",
    "        x        = self.emb(x)+self.pe(x)\n",
    "        x,(h,c)  = self.lstm0(x)\n",
    "        al,(x,c) = self.lstm1(x)\n",
    "        x        = x.transpose(0,1)\n",
    "        x        = x.squeeze()\n",
    "        x        = self.fc(x)\n",
    "        return x\n",
    "        "
   ]
  },
  {
   "cell_type": "markdown",
   "id": "672b8ea5-e2d0-4ab5-ac6c-551c21b6b3b0",
   "metadata": {
    "tags": []
   },
   "source": [
    "####  Self-attention"
   ]
  },
  {
   "cell_type": "markdown",
   "id": "f7ea4820-987c-47d1-b428-39958de402bc",
   "metadata": {},
   "source": [
    "##### attn (w/) "
   ]
  },
  {
   "cell_type": "code",
   "execution_count": 76,
   "id": "114b7adc-5408-4cd0-94f7-d38bfc3b5975",
   "metadata": {},
   "outputs": [],
   "source": [
    "import torchvision\n",
    "\n",
    "### x: b,10,20\n",
    "from torch import nn\n",
    "class attns(nn.Module):\n",
    "    def __init__(self):\n",
    "        super(attns,self).__init__()\n",
    "        self.attn0 = nn.TransformerEncoderLayer(d_model=20, nhead=4,batch_first=True)\n",
    "        self.attn1 = nn.TransformerEncoderLayer(d_model=20, nhead=4,batch_first=True)\n",
    "        self.flat  = nn.Flatten()\n",
    "        self.fc    = nn.Sequential(\n",
    "            nn.Linear(200,100),\n",
    "            nn.ReLU(),\n",
    "            nn.Linear(100,2)\n",
    "        )\n",
    "        \n",
    "    def forward(self,x):\n",
    "        x = x.to(torch.float)\n",
    "        x = self.attn0(x)+x\n",
    "        x = self.attn1(x)+x\n",
    "        x = self.flat(x)\n",
    "        x = self.fc(x)\n",
    "        return x\n",
    "        "
   ]
  },
  {
   "cell_type": "markdown",
   "id": "9d24ebff-302d-43d7-82c8-ce044e165f24",
   "metadata": {},
   "source": [
    "##### attn0 (w/o OH) "
   ]
  },
  {
   "cell_type": "code",
   "execution_count": 66,
   "id": "4d193ee8-7207-4bca-b4b4-e6f825631459",
   "metadata": {},
   "outputs": [],
   "source": [
    "import torchvision\n",
    "\n",
    "### x: b,10,20\n",
    "from torch import nn\n",
    "class attns0(nn.Module):\n",
    "    def __init__(self):\n",
    "        super(attns0,self).__init__()\n",
    "        self.attn0 = nn.TransformerEncoderLayer(d_model=1, nhead=1,batch_first=True)\n",
    "        self.attn1 = nn.TransformerEncoderLayer(d_model=1, nhead=1,batch_first=True)\n",
    "        self.flat  = nn.Flatten()\n",
    "        self.fc    = nn.Sequential(\n",
    "            nn.Linear(10,10),\n",
    "            nn.ReLU(),\n",
    "            nn.Linear(10,2)\n",
    "        )\n",
    "        \n",
    "    def forward(self,x):\n",
    "        x = x.to(torch.float) # b,10\n",
    "        x = x.unsqueeze(-1)   # b,10,1\n",
    "        x = self.attn0(x)+x   # b,10,1\n",
    "        x = self.attn1(x)+x   # b,10,1\n",
    "        x = self.flat(x)      # b,10\n",
    "        x = self.fc(x)        # b,2\n",
    "        return x\n",
    "        "
   ]
  },
  {
   "cell_type": "markdown",
   "id": "89354756-30da-4618-bc07-7dd480b31348",
   "metadata": {},
   "source": [
    "##### attns1 (w/ embedding  w/o oneHot ) "
   ]
  },
  {
   "cell_type": "code",
   "execution_count": 117,
   "id": "717a764b-8d9b-4c2c-a1f3-2a986494de79",
   "metadata": {},
   "outputs": [],
   "source": [
    "import torchvision\n",
    "\n",
    "### x: b,10,20\n",
    "from torch import nn\n",
    "class attns1(nn.Module):\n",
    "    def __init__(self):\n",
    "        super(attns1,self).__init__()\n",
    "        self.emb   = nn.Embedding(20,20)\n",
    "        self.attn0 = nn.TransformerEncoderLayer(d_model=20, nhead=4,batch_first=True)\n",
    "        self.attn1 = nn.TransformerEncoderLayer(d_model=20, nhead=4,batch_first=True)\n",
    "        self.flat  = nn.Flatten()\n",
    "        self.fc    = nn.Sequential(\n",
    "            nn.Linear(200,100),\n",
    "            nn.ReLU(),\n",
    "            nn.Linear(100,2)\n",
    "        )\n",
    "        \n",
    "    def forward(self,x):\n",
    "\n",
    "        x = self.emb(x)       # b,10,20\n",
    "        x = self.attn0(x)+x   # b,10,20\n",
    "        x = self.attn1(x)+x   # b,10,20\n",
    "        x = self.flat(x)      # b,200\n",
    "        x = self.fc(x)        # b,2\n",
    "        return x\n",
    "        "
   ]
  },
  {
   "cell_type": "markdown",
   "id": "a90af66f-adb9-4432-8a44-09fe89d7a4eb",
   "metadata": {},
   "source": [
    "##### attns2 (w/ emb + positional emb) "
   ]
  },
  {
   "cell_type": "code",
   "execution_count": 19,
   "id": "9c1d6d8c-c2fa-422c-9072-4016d0fc5850",
   "metadata": {},
   "outputs": [],
   "source": [
    "import torchvision\n",
    "from models import PostionalEncoding\n",
    "### x: b,10,20\n",
    "from torch import nn\n",
    "class attns2(nn.Module):\n",
    "    def __init__(self):\n",
    "        super(attns2,self).__init__()\n",
    "        self.emb   = nn.Embedding(20,20)\n",
    "        self.pe    = PostionalEncoding(max_len=10,d_model=20,device=device)\n",
    "        self.drop_out = nn.Dropout(p=0.3)\n",
    "        self.attn0 = nn.TransformerEncoderLayer(d_model=20, nhead=4,batch_first=True)\n",
    "        self.attn1 = nn.TransformerEncoderLayer(d_model=20, nhead=4,batch_first=True)\n",
    "        self.flat  = nn.Flatten()\n",
    "        self.fc    = nn.Sequential(\n",
    "            nn.Linear(200,100),\n",
    "            nn.ReLU(),\n",
    "            nn.Linear(100,2)\n",
    "        )\n",
    "        \n",
    "    def forward(self,x):\n",
    "        \n",
    "        x = self.emb(x)+self.pe(x)       # b,10,20\n",
    "        # x = self.drop_out(x)\n",
    "        x = self.attn0(x)+x   # b,10,20\n",
    "        x = self.attn1(x)+x   # b,10,20\n",
    "        x = self.flat(x)      # b,200\n",
    "        x = self.fc(x)        # b,2\n",
    "        return x\n",
    "        "
   ]
  },
  {
   "cell_type": "markdown",
   "id": "35587ad3-3f03-4b38-95fe-622521ea2dc1",
   "metadata": {},
   "source": [
    "#### Vision transformer "
   ]
  },
  {
   "cell_type": "markdown",
   "id": "df31775f-47e8-4bd4-9a49-98738faf4bd8",
   "metadata": {},
   "source": [
    "##### vit0 "
   ]
  },
  {
   "cell_type": "code",
   "execution_count": 2,
   "id": "b37a5f61-7bda-4638-a0a0-36ee66bc258d",
   "metadata": {},
   "outputs": [],
   "source": [
    "import torchvision\n",
    "import timm\n",
    "### x: b,10,20\n",
    "from torch import nn\n",
    "from torchvision import transforms\n",
    "\n",
    "class vit0(nn.Module):\n",
    "    def __init__(self):\n",
    "        super(vit0,self).__init__()\n",
    "\n",
    "        self.transform = transforms.Compose([\n",
    "            transforms.Resize(size = (224,224),interpolation=transforms.InterpolationMode.BICUBIC,max_size=None, antialias=None),\n",
    "            transforms.Normalize(mean=[0.5000, 0.5000, 0.5000],std=[0.5000, 0.5000, 0.5000] )\n",
    "        ])\n",
    "        self.backbone =  timm.create_model('vit_base_patch16_224', pretrained=True, num_classes=2)\n",
    "\n",
    "    def forward(self,x):\n",
    "        x = x.to(torch.float)\n",
    "        x = torch.stack([x,x,x],dim=1)\n",
    "        x = self.transform(x)\n",
    "        x = self.backbone(x)\n",
    "        return x\n"
   ]
  },
  {
   "cell_type": "markdown",
   "id": "63086c15-e98e-40f6-852d-dac5c1e6fb2b",
   "metadata": {},
   "source": [
    "##### vit1 (small) "
   ]
  },
  {
   "cell_type": "code",
   "execution_count": 6,
   "id": "a043edd7-31ac-4a94-93a8-d33de8540f48",
   "metadata": {},
   "outputs": [],
   "source": [
    "from timm.models import vision_transformer as vt\n",
    "\n",
    "### x: b,10,20\n",
    "from torch import nn\n",
    "class vit1(nn.Module):\n",
    "    def __init__(self):\n",
    "        super(vit1,self).__init__()\n",
    "        self.vit = vt.VisionTransformer(img_size=(10,20),patch_size=5,num_classes=2,embed_dim=384,in_chans=1,depth=4)\n",
    "        \n",
    "    def forward(self,x):\n",
    "        x = x.to(torch.float)\n",
    "        x = x.unsqueeze(1)\n",
    "        x = self.vit(x)\n",
    "        return x\n"
   ]
  },
  {
   "cell_type": "markdown",
   "id": "4aebf164-c603-480e-abef-18373de8cf57",
   "metadata": {},
   "source": [
    "#### AE (AutoEncoder) "
   ]
  },
  {
   "cell_type": "code",
   "execution_count": 2,
   "id": "d23d05bc-a711-46a0-b863-30dd70ef804f",
   "metadata": {},
   "outputs": [],
   "source": [
    "from torch import nn\n",
    "def get_conv(in_n,out_n,kernel_size=(3, 3), stride=(1, 1),activation=True):\n",
    "    c = nn.Conv2d(in_n,out_n,kernel_size=kernel_size,stride=stride)\n",
    "    b = nn.BatchNorm2d(out_n)\n",
    "    if activation == True:\n",
    "        r = nn.ReLU()\n",
    "        return nn.Sequential(c,b,r)\n",
    "    else:\n",
    "        return nn.Sequential(c,b)\n",
    "\n",
    "def get_deconv(in_n,out_n,kernel_size=(3, 3), stride=(1, 1),activation=True):\n",
    "    dc = nn.ConvTranspose2d(in_n,out_n,kernel_size=kernel_size, stride=stride)\n",
    "    b  = nn.BatchNorm2d(out_n)\n",
    "    r  = nn.ReLU()\n",
    "    combo = nn.Sequential(dc,b,r)\n",
    "    return combo\n",
    "\n",
    "class encoder0(nn.Module):\n",
    "    def __init__(self):\n",
    "        super(encoder0,self).__init__()\n",
    "        e0 = get_conv(1,8)\n",
    "        e1 = get_conv(8,16)\n",
    "        e2 = get_conv(16,32,activation=False)\n",
    "        e3 = nn.AdaptiveAvgPool2d((2,2))\n",
    "        e4  = nn.Flatten()\n",
    "        self.enc = nn.Sequential(e0,e1,e2,e3,e4)\n",
    "        out_node = self.enc(torch.rand(1,1,10,20)).shape[-1]\n",
    "        e5  = nn.Linear(out_node,64)\n",
    "        self.enc.add_module('lin',e5)\n",
    "    def forward(self,x):\n",
    "        x = x.unsqueeze(1) # b,10,20 > b,1,10,20\n",
    "        x = self.enc(x)\n",
    "        return x \n",
    "\n",
    "from torch.nn import functional as F\n",
    "class decoder0(nn.Module):\n",
    "    def __init__(self):\n",
    "        super(decoder0,self).__init__()\n",
    "        d0 = get_deconv(32,16,stride=(1,1))\n",
    "        d1 = get_deconv(16,8,stride=(2,2))\n",
    "        d2 = get_deconv(8,8,stride=(1,2))\n",
    "        self.d3 = nn.Conv2d(8,1,kernel_size=(3,3),stride=1)\n",
    "        # d4 = nn.Conv2d(8,1)\n",
    "        self.dec = nn.Sequential(d0,d1,d2)\n",
    "    def forward(self,x):\n",
    "        x = x.view(x.size()[0],32,1,2)\n",
    "        x = self.dec(x)\n",
    "        x = F.interpolate(x,(12,22))\n",
    "        x = self.d3(x)\n",
    "        x = x.squeeze()\n",
    "        return x \n",
    "\n",
    "from torch.nn import functional as F\n",
    "class AE0(nn.Module):\n",
    "    def __init__(self):\n",
    "        super(AE0,self).__init__()\n",
    "        self.en = encoder0()\n",
    "        self.de = decoder0()\n",
    "    def forward(self,x):\n",
    "        x = self.en(x)\n",
    "        x = self.de(x)\n",
    "        return x "
   ]
  },
  {
   "cell_type": "markdown",
   "id": "6fcd8df6-9379-4c95-98a3-ade4e28bdb23",
   "metadata": {},
   "source": [
    "### settings "
   ]
  },
  {
   "cell_type": "code",
   "execution_count": 8,
   "id": "2bc18a5f-18b7-4aa1-b3ad-635320ed424a",
   "metadata": {},
   "outputs": [],
   "source": [
    "it = iter(trdl)\n",
    "x,y = next(it)"
   ]
  },
  {
   "cell_type": "code",
   "execution_count": null,
   "id": "f3d66201-2d49-43f5-b096-c6334c6311cb",
   "metadata": {},
   "outputs": [],
   "source": [
    "from "
   ]
  },
  {
   "cell_type": "code",
   "execution_count": 3,
   "id": "e90ae2ca-c222-436a-958f-ce847d705c12",
   "metadata": {},
   "outputs": [],
   "source": [
    "# model = 'lstm2'\n",
    "# model = 'attns2'\n",
    "model = 'vit0'\n",
    "\n",
    "model = model.lower()\n",
    "if model.startswith('maxfil'):\n",
    "    model = MaxFilterCNN().to(device)\n",
    "elif model.startswith('resnet'):\n",
    "    model = ResNet().to(device)\n",
    "elif model.startswith('resnext'):\n",
    "    model = ResNext().to(device)\n",
    "elif model.startswith('attn'):\n",
    "    if model == 'attns':\n",
    "        transform = 'onehot'\n",
    "        model = attns().to(device)\n",
    "    elif model == 'attns0':\n",
    "        transform = None\n",
    "        model = attns0().to(device)\n",
    "    elif model == 'attns1':\n",
    "        transform = None\n",
    "        model = attns1().to(device)\n",
    "    elif model == 'attns2':\n",
    "        transform = None\n",
    "        model = attns2().to(device)\n",
    "elif model.startswith('lstm'):\n",
    "    if model == 'lstm':\n",
    "        model = lstm().to(device)\n",
    "        transform = 'onehot'\n",
    "    elif model == 'lstm0':\n",
    "        model = lstm0().to(device)\n",
    "        transform = None\n",
    "    elif model == 'lstm1':\n",
    "        model = lstm1().to(device)\n",
    "        transform = None\n",
    "    elif model == 'lstm2':\n",
    "        model = lstm2().to(device)\n",
    "        transform = None\n",
    "        \n",
    "elif model.startswith('vit'):\n",
    "    if model == 'vit0':\n",
    "        model = vit0().to(device)\n",
    "        transform = 'onehot'\n",
    "# elif model.startswith('vit'):\n",
    "#     model = Vit().to(device)    \n",
    "    \n",
    "loss = nn.CrossEntropyLoss()\n",
    "params = [p for p in model.parameters() if p.requires_grad]\n",
    "opt  = torch.optim.Adam(params)"
   ]
  },
  {
   "cell_type": "markdown",
   "id": "63d234a8-49b6-4d87-84e4-7ee93dd856a3",
   "metadata": {},
   "source": [
    "### train/val/test "
   ]
  },
  {
   "cell_type": "code",
   "execution_count": null,
   "id": "35b8e5ac-c772-4499-8b2b-e6cb6302d80f",
   "metadata": {},
   "outputs": [],
   "source": [
    "### def train(dl,model,lossf,opt):\n",
    "    model.train()\n",
    "    for x,y in dl:\n",
    "        x,y = x.to(device),y.to(device)\n",
    "        pre = model(x)\n",
    "        loss = lossf(pre,y)\n",
    "\n",
    "        opt.zero_grad()\n",
    "        loss.backward()\n",
    "        opt.step()\n",
    "\n",
    "def test(dl,model,lossf,epoch=None):\n",
    "    model.eval()\n",
    "    size, acc , losses = len(dl.dataset) ,0,0\n",
    "    with torch.no_grad():\n",
    "        for x,y in dl:\n",
    "            x,y = x.to(device),y.to(device)\n",
    "            pre = model(x)\n",
    "            loss = lossf(pre,y)\n",
    "    \n",
    "            acc += (pre.argmax(1)==y).type(torch.float).sum().item()\n",
    "            losses += loss.item()\n",
    "    accuracy = round(acc/size,4)\n",
    "    val_loss = round(losses/size,6)\n",
    "    print(f'[{epoch}] acc/loss: {accuracy}/{val_loss}')\n",
    "    return accuracy,val_loss\n",
    "\n",
    "import copy\n",
    "patience = 5\n",
    "val_losses = {0:1}\n",
    "for i in range(100):\n",
    "    train(trdl,model,loss,opt)\n",
    "    acc,val_loss = test(valdl,model,loss,i)\n",
    "    \n",
    "    \n",
    "    if min(val_losses.values() ) > val_loss:\n",
    "        val_losses[i] = val_loss\n",
    "        best_model = copy.deepcopy(model)\n",
    "    if i == min(val_losses,key=val_losses.get)+patience:\n",
    "        break"
   ]
  },
  {
   "cell_type": "code",
   "execution_count": 5,
   "id": "ba732adb-1f85-48b5-89a6-3d096cc92143",
   "metadata": {},
   "outputs": [
    {
     "name": "stdout",
     "output_type": "stream",
     "text": [
      "[None] acc/loss: 0.7306/0.033371\n"
     ]
    },
    {
     "data": {
      "text/plain": [
       "(0.7306, 0.033371)"
      ]
     },
     "execution_count": 5,
     "metadata": {},
     "output_type": "execute_result"
    }
   ],
   "source": [
    "test(valdl,best_model,loss)"
   ]
  },
  {
   "cell_type": "code",
   "execution_count": 22,
   "id": "3f343c78-4341-432d-8327-88fa3d171dfa",
   "metadata": {},
   "outputs": [
    {
     "name": "stdout",
     "output_type": "stream",
     "text": [
      "[None] acc/loss: 0.8478/0.005596\n"
     ]
    },
    {
     "data": {
      "text/plain": [
       "(0.8478, 0.005596)"
      ]
     },
     "execution_count": 22,
     "metadata": {},
     "output_type": "execute_result"
    }
   ],
   "source": [
    "test(tedl,best_model,loss)"
   ]
  },
  {
   "cell_type": "markdown",
   "id": "ea9b8322-e21e-4377-9ae4-c1c767e1ff83",
   "metadata": {},
   "source": [
    "### Evaluate "
   ]
  },
  {
   "cell_type": "code",
   "execution_count": 13,
   "id": "52f4958e-b57e-44db-a27c-0be15cc825db",
   "metadata": {},
   "outputs": [
    {
     "name": "stdout",
     "output_type": "stream",
     "text": [
      "{'acc': 0.8479186701469982, 'recall': 0.7309397163120568, 'precision': 0.7673336435551419, 'f1': 0.748694665153235, 'confusion': array([[4523,  500],\n",
      "       [ 607, 1649]]), 'loss': 0.005515566614404913}\n"
     ]
    }
   ],
   "source": [
    "from sklearn.metrics import accuracy_score \n",
    "from sklearn.metrics import recall_score \n",
    "from sklearn.metrics import precision_score \n",
    "from sklearn.metrics import f1_score \n",
    "# from sklearn.metrics import make_scorer\n",
    "# from sklearn.metrics import classification_report\n",
    "from sklearn.metrics import confusion_matrix \n",
    "\n",
    "def evaluate(dl,model,lossf,epoch=None):\n",
    "    model.eval()\n",
    "    size, _ , losses = len(dl.dataset) ,0,0\n",
    "    pre_l,gt_l = [],[]\n",
    "    with torch.no_grad():\n",
    "        for x,y in dl:\n",
    "            x,y = x.to(device),y.to(device)\n",
    "            pre = model(x)\n",
    "            loss = lossf(pre,y)\n",
    "            \n",
    "            losses += loss.item()\n",
    "            pre_l.extend(pre.argmax(1).cpu().numpy().tolist())\n",
    "            gt_l .extend(y.cpu().numpy().tolist())\n",
    "    \n",
    "    loss     = losses/size\n",
    "    acc      = accuracy_score(gt_l,pre_l)\n",
    "    recall   = recall_score(gt_l,pre_l)\n",
    "    precision= precision_score(gt_l,pre_l)\n",
    "    f1       = f1_score(gt_l,pre_l)\n",
    "    confusion= confusion_matrix(gt_l,pre_l)\n",
    "\n",
    "    metrics = {'acc':acc,'recall':recall,'precision':precision,'f1':f1,'confusion':confusion,'loss':loss}\n",
    "    return metrics\n",
    "\n",
    "print(evaluate(tedl,best_model,loss))"
   ]
  },
  {
   "cell_type": "markdown",
   "id": "a030b5ce-dd68-4f76-9d09-b384f6a527e7",
   "metadata": {},
   "source": [
    "## ETC "
   ]
  },
  {
   "cell_type": "markdown",
   "id": "cb905108-40e2-4855-9191-7b8ccbd0ac45",
   "metadata": {},
   "source": [
    "### Save model "
   ]
  },
  {
   "cell_type": "code",
   "execution_count": 26,
   "id": "f1bb3ca7-8eb9-4563-96fd-927932fbebed",
   "metadata": {},
   "outputs": [],
   "source": [
    "import os\n",
    "model_name = f\"{best_model.__str__().split('(')[0]}_{max(val_losses)}.pt\"\n",
    "model_path = os.path.join('./models',model_name) \n",
    "torch.save(best_model.state_dict(),model_path)"
   ]
  },
  {
   "cell_type": "markdown",
   "id": "9639fb38-4e89-4d5f-addb-94f2d9bbba72",
   "metadata": {},
   "source": [
    "### load saved models and evaluate them "
   ]
  },
  {
   "cell_type": "code",
   "execution_count": 50,
   "id": "4c1bedf0-d5f4-4778-8793-aa0ee30ce216",
   "metadata": {},
   "outputs": [],
   "source": [
    "files = os.listdir('./models')\n",
    "\n",
    "model_paths = [os.path.join('./models',file) for file in files if file.endswith('.pt')]\n",
    "\n",
    "import os\n",
    "from models import * \n",
    "results = {}\n",
    "\n",
    "for m_path in model_paths:\n",
    "    model_name = os.path.basename(m_path).split('_')[0]\n",
    "    model_name = model_name.lower()\n",
    "    \n",
    "    model = model_name\n",
    "\n",
    "    model = model.lower()\n",
    "    if model.startswith('maxfil') :\n",
    "        model = MaxFilterCNN().to(device)\n",
    "    elif model.startswith('resnet'):\n",
    "        model = ResNet().to(device)\n",
    "    elif model.startswith('resnext'):\n",
    "        model = ResNext().to(device)\n",
    "    elif model.startswith('attn'):\n",
    "        model = attns().to(device)\n",
    "    elif model.startswith('lstm'):\n",
    "        model = lstm().to(device)\n",
    "    \n",
    "    \n",
    "    model.load_state_dict(torch.load(m_path))\n",
    "    \n",
    "    loss = nn.CrossEntropyLoss()\n",
    "    \n",
    "    result = evaluate(tedl,model,loss)\n",
    "    \n",
    "    print(f'{model_name}: {result}')\n",
    "    results[model_name] = result\n",
    "\n",
    "import pandas as pd\n",
    "df  = pd.DataFrame(results).T\n",
    "\n",
    "models = [os.path.splitext( os.path.basename(path) )[0] for path in model_paths]\n",
    "\n",
    "df.to_csv(f\"assets/{'&'.join(models)}.csv\")"
   ]
  },
  {
   "cell_type": "markdown",
   "id": "3be0af7c-fe65-4bcd-a996-8793a9a4bafa",
   "metadata": {},
   "source": [
    "### Inference "
   ]
  },
  {
   "cell_type": "code",
   "execution_count": 125,
   "id": "79e7993a-79ee-416b-8be6-99b485a93023",
   "metadata": {},
   "outputs": [],
   "source": [
    "def get_seqStr(path = './data/sample.txt'):\n",
    "    with open(path,'r',encoding='utf8') as f:\n",
    "        x_list = f.readlines()\n",
    "\n",
    "    x_list = list(map(lambda x:x.replace('\\n',''),x_list ) )\n",
    "    return x_list\n",
    "\n",
    "def seq2oneHot(seq):\n",
    "    seq2int = [ vocab_map[x] for x in seq ]\n",
    "    seq2int = torch.tensor(seq2int)\n",
    "    oneHot = F.one_hot(seq2int,num_classes=len(vocab_map) )\n",
    "    return oneHot\n",
    "\n",
    "def seq_list2oneHot(seq_list):\n",
    "    tensor_list = list(map(seq2oneHot,seq_list))\n",
    "    seq_tensor = torch.stack(seq_tensor_list)\n",
    "    return seq_tensor\n"
   ]
  },
  {
   "cell_type": "code",
   "execution_count": 132,
   "id": "0c2a3f0d-43c0-4501-bfbe-c616063e1d80",
   "metadata": {},
   "outputs": [],
   "source": [
    "x = seq_list2oneHot(get_seqStr()).to(device)"
   ]
  },
  {
   "cell_type": "code",
   "execution_count": 134,
   "id": "ab16bba2-e7dc-4996-a153-cb461633e254",
   "metadata": {},
   "outputs": [],
   "source": [
    "y = model(x)\n",
    "y = y.argmax(1)\n",
    "y = y.cpu().numpy().tolist()"
   ]
  },
  {
   "cell_type": "markdown",
   "id": "e3880021-7173-4c05-a158-ef7e7eda63b6",
   "metadata": {},
   "source": [
    "### save output "
   ]
  },
  {
   "cell_type": "code",
   "execution_count": 137,
   "id": "da34fede-59ec-4abd-932c-cfde8b5f35ae",
   "metadata": {},
   "outputs": [],
   "source": [
    "# save output\n",
    "y = list(map(str,y))\n",
    "dirname = os.path.dirname(path)\n",
    "fname   = os.path.basename(path).split('.')[0]\n",
    "savep   = os.path.join(dirname,f'{fname}_out.csv')\n",
    "with open(savep,'w') as f:\n",
    "    f.write('\\n'.join(y) )"
   ]
  },
  {
   "cell_type": "markdown",
   "id": "48fce811-a8bf-40dc-bbe2-5fde50b6c8ed",
   "metadata": {
    "tags": []
   },
   "source": [
    "### result to md "
   ]
  },
  {
   "cell_type": "code",
   "execution_count": 8,
   "id": "8191681a-3cad-44e2-8d2b-74ad00dbddf6",
   "metadata": {},
   "outputs": [],
   "source": [
    "import pandas as pd\n",
    "df = pd.read_csv('./assets/MaxFilterCNN_8&lstm1_21&lstm_39&lstm0_99&vit0_7&attns_3&lstm2_18&ResNext_5&ResNet_2&vit1_14&attns0_99&attns1_3&attns2_2.csv')"
   ]
  },
  {
   "cell_type": "code",
   "execution_count": 9,
   "id": "85f43667-2ac9-4cfa-87cb-34223229a403",
   "metadata": {},
   "outputs": [],
   "source": [
    "df = df.set_index('Unnamed: 0')"
   ]
  },
  {
   "cell_type": "code",
   "execution_count": 10,
   "id": "63d62b02-7a63-4d04-b390-48cb4feba856",
   "metadata": {},
   "outputs": [],
   "source": [
    "with open('df.md','w') as f:\n",
    "    f.write(df.to_markdown())"
   ]
  },
  {
   "cell_type": "markdown",
   "id": "74beebbc-c732-4ab1-a86e-5c98f3e1b68e",
   "metadata": {
    "tags": []
   },
   "source": [
    "## ETC of ETC "
   ]
  },
  {
   "cell_type": "code",
   "execution_count": 1,
   "id": "c4e10b2a-8e05-4492-84b7-a6194cdeec9b",
   "metadata": {},
   "outputs": [],
   "source": [
    "from models import get_model\n",
    "model,conf = get_model('ae0')\n",
    "\n",
    "from torch import nn\n",
    "import torch\n",
    "loss = nn.MSELoss()\n",
    "params = [p for p in model.parameters() if p.requires_grad]\n",
    "opt  = torch.optim.Adam(params)"
   ]
  },
  {
   "cell_type": "code",
   "execution_count": 2,
   "id": "b153358f-e8e5-495b-8876-72731a686e66",
   "metadata": {},
   "outputs": [],
   "source": [
    "from dataset import ProteinDataset\n",
    "transform = 'ae'\n",
    "trone  = ProteinDataset('./data/split/train.csv',transform=transform,only=1)\n",
    "trzero = ProteinDataset('./data/split/train.csv'  ,transform=transform,only=0)\n",
    "\n",
    "\n",
    "onedl  = torch.utils.data.DataLoader(trone, batch_size=1, num_workers=4)\n",
    "zerodl  = torch.utils.data.DataLoader(trzero, batch_size=1, num_workers=4)"
   ]
  },
  {
   "cell_type": "code",
   "execution_count": 3,
   "id": "b36155af-dc15-4475-b7df-5759e5aeeb2a",
   "metadata": {},
   "outputs": [
    {
     "data": {
      "text/plain": [
       "<All keys matched successfully>"
      ]
     },
     "execution_count": 3,
     "metadata": {},
     "output_type": "execute_result"
    }
   ],
   "source": [
    "model.load_state_dict(torch.load('./models/ae0_56.pt') )"
   ]
  },
  {
   "cell_type": "code",
   "execution_count": 4,
   "id": "20b6bd4e-b248-4431-99a9-dd0ee1dd093f",
   "metadata": {},
   "outputs": [
    {
     "name": "stderr",
     "output_type": "stream",
     "text": [
      "/home/yp/anaconda3/envs/torch/lib/python3.6/site-packages/torch/nn/modules/loss.py:528: UserWarning: Using a target size (torch.Size([1, 10, 20])) that is different to the input size (torch.Size([10, 20])). This will likely lead to incorrect results due to broadcasting. Please ensure they have the same size.\n",
      "  return F.mse_loss(input, target, reduction=self.reduction)\n"
     ]
    }
   ],
   "source": [
    "# x x \n",
    "from options.train_op import args\n",
    "device= args.device\n",
    "one_losses = []\n",
    "zero_losses = []\n",
    "torch.multiprocessing.set_sharing_strategy('file_system')\n",
    "model = model.to(device)\n",
    "for x,y in onedl:\n",
    "    x,y = x.to(device),y.to(device)\n",
    "    pre = model(x)\n",
    "    one_losses.append(loss(pre,y).item())\n",
    "\n",
    "for x,y in zerodl:\n",
    "    x,y = x.to(device),y.to(device)\n",
    "    pre = model(x)\n",
    "    zero_losses.append(loss(pre,y).item())"
   ]
  },
  {
   "cell_type": "code",
   "execution_count": 5,
   "id": "1376939e-ebca-4e09-af85-a218c9684c12",
   "metadata": {},
   "outputs": [],
   "source": [
    "import pandas as pd\n",
    "one_df = pd.DataFrame(one_losses)\n",
    "zero_df = pd.DataFrame(zero_losses)"
   ]
  },
  {
   "cell_type": "code",
   "execution_count": 6,
   "id": "cb561043-fe9f-4097-9f09-9866209a60fd",
   "metadata": {},
   "outputs": [
    {
     "data": {
      "text/plain": [
       "array([[<AxesSubplot:title={'center':'0'}>]], dtype=object)"
      ]
     },
     "execution_count": 6,
     "metadata": {},
     "output_type": "execute_result"
    },
    {
     "data": {
      "image/png": "[encoded data removed]",
      "text/plain": [
       "<Figure size 432x288 with 1 Axes>"
      ]
     },
     "metadata": {
      "needs_background": "light"
     },
     "output_type": "display_data"
    }
   ],
   "source": [
    "one_df.hist()"
   ]
  },
  {
   "cell_type": "code",
   "execution_count": 7,
   "id": "5cf3fb57-1bb1-4faf-b727-f595212bba96",
   "metadata": {},
   "outputs": [
    {
     "data": {
      "text/plain": [
       "array([[<AxesSubplot:title={'center':'0'}>]], dtype=object)"
      ]
     },
     "execution_count": 7,
     "metadata": {},
     "output_type": "execute_result"
    },
    {
     "data": {
      "image/png": "[encoded data removed]",
      "text/plain": [
       "<Figure size 432x288 with 1 Axes>"
      ]
     },
     "metadata": {
      "needs_background": "light"
     },
     "output_type": "display_data"
    }
   ],
   "source": [
    "zero_df.hist()"
   ]
  },
  {
   "cell_type": "code",
   "execution_count": 14,
   "id": "4ea88b78-2b50-48d3-bf4c-3baca7b1dee1",
   "metadata": {},
   "outputs": [],
   "source": [
    "one_df = one_df*1000\n",
    "zero_df = zero_df*1000"
   ]
  },
  {
   "cell_type": "code",
   "execution_count": 15,
   "id": "0001d9b8-d3a0-4fc6-a308-fcbb51c83c3b",
   "metadata": {},
   "outputs": [
    {
     "data": {
      "text/html": [
       "<div>\n",
       "<style scoped>\n",
       "    .dataframe tbody tr th:only-of-type {\n",
       "        vertical-align: middle;\n",
       "    }\n",
       "\n",
       "    .dataframe tbody tr th {\n",
       "        vertical-align: top;\n",
       "    }\n",
       "\n",
       "    .dataframe thead th {\n",
       "        text-align: right;\n",
       "    }\n",
       "</style>\n",
       "<table border=\"1\" class=\"dataframe\">\n",
       "  <thead>\n",
       "    <tr style=\"text-align: right;\">\n",
       "      <th></th>\n",
       "      <th>0</th>\n",
       "    </tr>\n",
       "  </thead>\n",
       "  <tbody>\n",
       "    <tr>\n",
       "      <th>count</th>\n",
       "      <td>6766.000000</td>\n",
       "    </tr>\n",
       "    <tr>\n",
       "      <th>mean</th>\n",
       "      <td>18.178686</td>\n",
       "    </tr>\n",
       "    <tr>\n",
       "      <th>std</th>\n",
       "      <td>5.167735</td>\n",
       "    </tr>\n",
       "    <tr>\n",
       "      <th>min</th>\n",
       "      <td>5.986304</td>\n",
       "    </tr>\n",
       "    <tr>\n",
       "      <th>25%</th>\n",
       "      <td>14.619229</td>\n",
       "    </tr>\n",
       "    <tr>\n",
       "      <th>50%</th>\n",
       "      <td>17.384728</td>\n",
       "    </tr>\n",
       "    <tr>\n",
       "      <th>75%</th>\n",
       "      <td>20.755943</td>\n",
       "    </tr>\n",
       "    <tr>\n",
       "      <th>max</th>\n",
       "      <td>73.419847</td>\n",
       "    </tr>\n",
       "  </tbody>\n",
       "</table>\n",
       "</div>"
      ],
      "text/plain": [
       "                 0\n",
       "count  6766.000000\n",
       "mean     18.178686\n",
       "std       5.167735\n",
       "min       5.986304\n",
       "25%      14.619229\n",
       "50%      17.384728\n",
       "75%      20.755943\n",
       "max      73.419847"
      ]
     },
     "execution_count": 15,
     "metadata": {},
     "output_type": "execute_result"
    }
   ],
   "source": [
    "one_df.describe()"
   ]
  },
  {
   "cell_type": "code",
   "execution_count": 16,
   "id": "5fbf4866-8ab7-412d-a787-f08909663b56",
   "metadata": {},
   "outputs": [
    {
     "data": {
      "text/html": [
       "<div>\n",
       "<style scoped>\n",
       "    .dataframe tbody tr th:only-of-type {\n",
       "        vertical-align: middle;\n",
       "    }\n",
       "\n",
       "    .dataframe tbody tr th {\n",
       "        vertical-align: top;\n",
       "    }\n",
       "\n",
       "    .dataframe thead th {\n",
       "        text-align: right;\n",
       "    }\n",
       "</style>\n",
       "<table border=\"1\" class=\"dataframe\">\n",
       "  <thead>\n",
       "    <tr style=\"text-align: right;\">\n",
       "      <th></th>\n",
       "      <th>0</th>\n",
       "    </tr>\n",
       "  </thead>\n",
       "  <tbody>\n",
       "    <tr>\n",
       "      <th>count</th>\n",
       "      <td>15068.000000</td>\n",
       "    </tr>\n",
       "    <tr>\n",
       "      <th>mean</th>\n",
       "      <td>24.577854</td>\n",
       "    </tr>\n",
       "    <tr>\n",
       "      <th>std</th>\n",
       "      <td>6.790325</td>\n",
       "    </tr>\n",
       "    <tr>\n",
       "      <th>min</th>\n",
       "      <td>7.339514</td>\n",
       "    </tr>\n",
       "    <tr>\n",
       "      <th>25%</th>\n",
       "      <td>19.919242</td>\n",
       "    </tr>\n",
       "    <tr>\n",
       "      <th>50%</th>\n",
       "      <td>23.932157</td>\n",
       "    </tr>\n",
       "    <tr>\n",
       "      <th>75%</th>\n",
       "      <td>28.471264</td>\n",
       "    </tr>\n",
       "    <tr>\n",
       "      <th>max</th>\n",
       "      <td>141.441479</td>\n",
       "    </tr>\n",
       "  </tbody>\n",
       "</table>\n",
       "</div>"
      ],
      "text/plain": [
       "                  0\n",
       "count  15068.000000\n",
       "mean      24.577854\n",
       "std        6.790325\n",
       "min        7.339514\n",
       "25%       19.919242\n",
       "50%       23.932157\n",
       "75%       28.471264\n",
       "max      141.441479"
      ]
     },
     "execution_count": 16,
     "metadata": {},
     "output_type": "execute_result"
    }
   ],
   "source": [
    "zero_df.describe()"
   ]
  },
  {
   "cell_type": "code",
   "execution_count": 19,
   "id": "34ea0a8a-87f8-4096-84c6-0dc6b3641899",
   "metadata": {},
   "outputs": [
    {
     "data": {
      "image/png": "[encoded data removed]",
      "text/plain": [
       "<Figure size 432x288 with 1 Axes>"
      ]
     },
     "metadata": {
      "needs_background": "light"
     },
     "output_type": "display_data"
    }
   ],
   "source": [
    "from matplotlib import pyplot as plt\n",
    "plt.hist(zero_df,bins=20)\n",
    "plt.hist(one_df)\n",
    "plt.show()"
   ]
  },
  {
   "cell_type": "code",
   "execution_count": null,
   "id": "390d2bbc-2d92-47e9-9cd2-0def7c19aa24",
   "metadata": {},
   "outputs": [],
   "source": []
  }
 ],
 "metadata": {
  "kernelspec": {
   "display_name": "torch",
   "language": "python",
   "name": "torch"
  },
  "language_info": {
   "codemirror_mode": {
    "name": "ipython",
    "version": 3
   },
   "file_extension": ".py",
   "mimetype": "text/x-python",
   "name": "python",
   "nbconvert_exporter": "python",
   "pygments_lexer": "ipython3",
   "version": "3.6.13"
  }
 },
 "nbformat": 4,
 "nbformat_minor": 5
}
