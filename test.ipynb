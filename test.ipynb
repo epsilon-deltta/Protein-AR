{
 "cells": [
  {
   "cell_type": "markdown",
   "id": "a7d2d078-b110-4482-adf9-2c7df2689549",
   "metadata": {},
   "source": [
    "### load and explore "
   ]
  },
  {
   "cell_type": "code",
   "execution_count": 2,
   "id": "ab6a7b9e-2ae3-4cf4-92fa-f3df10b003a0",
   "metadata": {},
   "outputs": [],
   "source": [
    "data_path = './data/Training_data.txt'\n",
    "vocab_path = './data/vocab.txt'"
   ]
  },
  {
   "cell_type": "code",
   "execution_count": 3,
   "id": "435e4135-191f-4d1f-a135-e53b6d31295c",
   "metadata": {},
   "outputs": [],
   "source": [
    "import pandas as pd\n",
    "df = pd.read_csv(data_path,sep='\\t')"
   ]
  },
  {
   "cell_type": "code",
   "execution_count": 6,
   "id": "dc146a3c-2c1b-4e76-83fb-f69c749b22f7",
   "metadata": {},
   "outputs": [
    {
     "name": "stdout",
     "output_type": "stream",
     "text": [
      "36391\n"
     ]
    }
   ],
   "source": [
    "print(len(df))"
   ]
  },
  {
   "cell_type": "code",
   "execution_count": 7,
   "id": "0ee957e3-3181-43cd-a979-2034ca89db13",
   "metadata": {},
   "outputs": [
    {
     "data": {
      "text/html": [
       "<div>\n",
       "<style scoped>\n",
       "    .dataframe tbody tr th:only-of-type {\n",
       "        vertical-align: middle;\n",
       "    }\n",
       "\n",
       "    .dataframe tbody tr th {\n",
       "        vertical-align: top;\n",
       "    }\n",
       "\n",
       "    .dataframe thead th {\n",
       "        text-align: right;\n",
       "    }\n",
       "</style>\n",
       "<table border=\"1\" class=\"dataframe\">\n",
       "  <thead>\n",
       "    <tr style=\"text-align: right;\">\n",
       "      <th></th>\n",
       "      <th>Seq</th>\n",
       "      <th>Label</th>\n",
       "    </tr>\n",
       "  </thead>\n",
       "  <tbody>\n",
       "    <tr>\n",
       "      <th>0</th>\n",
       "      <td>WSHPSFYPFR</td>\n",
       "      <td>1</td>\n",
       "    </tr>\n",
       "    <tr>\n",
       "      <th>1</th>\n",
       "      <td>WLMACFFVFR</td>\n",
       "      <td>0</td>\n",
       "    </tr>\n",
       "    <tr>\n",
       "      <th>2</th>\n",
       "      <td>WTVDGLYEYD</td>\n",
       "      <td>1</td>\n",
       "    </tr>\n",
       "    <tr>\n",
       "      <th>3</th>\n",
       "      <td>WRATSFYLNT</td>\n",
       "      <td>0</td>\n",
       "    </tr>\n",
       "    <tr>\n",
       "      <th>4</th>\n",
       "      <td>WRSIAFFMFA</td>\n",
       "      <td>0</td>\n",
       "    </tr>\n",
       "    <tr>\n",
       "      <th>...</th>\n",
       "      <td>...</td>\n",
       "      <td>...</td>\n",
       "    </tr>\n",
       "    <tr>\n",
       "      <th>36386</th>\n",
       "      <td>YHSVAFFPYT</td>\n",
       "      <td>0</td>\n",
       "    </tr>\n",
       "    <tr>\n",
       "      <th>36387</th>\n",
       "      <td>FNDRGFFTFR</td>\n",
       "      <td>0</td>\n",
       "    </tr>\n",
       "    <tr>\n",
       "      <th>36388</th>\n",
       "      <td>FGLAHSYTFS</td>\n",
       "      <td>1</td>\n",
       "    </tr>\n",
       "    <tr>\n",
       "      <th>36389</th>\n",
       "      <td>WLALGMYQFA</td>\n",
       "      <td>1</td>\n",
       "    </tr>\n",
       "    <tr>\n",
       "      <th>36390</th>\n",
       "      <td>YTVVSLFMNN</td>\n",
       "      <td>0</td>\n",
       "    </tr>\n",
       "  </tbody>\n",
       "</table>\n",
       "<p>36391 rows × 2 columns</p>\n",
       "</div>"
      ],
      "text/plain": [
       "              Seq  Label\n",
       "0      WSHPSFYPFR      1\n",
       "1      WLMACFFVFR      0\n",
       "2      WTVDGLYEYD      1\n",
       "3      WRATSFYLNT      0\n",
       "4      WRSIAFFMFA      0\n",
       "...           ...    ...\n",
       "36386  YHSVAFFPYT      0\n",
       "36387  FNDRGFFTFR      0\n",
       "36388  FGLAHSYTFS      1\n",
       "36389  WLALGMYQFA      1\n",
       "36390  YTVVSLFMNN      0\n",
       "\n",
       "[36391 rows x 2 columns]"
      ]
     },
     "execution_count": 7,
     "metadata": {},
     "output_type": "execute_result"
    }
   ],
   "source": [
    "df"
   ]
  },
  {
   "cell_type": "code",
   "execution_count": 30,
   "id": "fd669a0c-7af0-4679-956b-f561042e2f83",
   "metadata": {},
   "outputs": [],
   "source": [
    "with open(vocab_path,'r') as f:\n",
    "    vocab = f.read()\n",
    "\n",
    "vocab = vocab.replace('\\n','')\n",
    "\n",
    "import re\n",
    "p = re.compile('\\s+')\n",
    "vocab = re.sub(p,' ',vocab)\n",
    "\n",
    "import ast\n",
    "vocab = ast.literal_eval(vocab.split('=')[1].strip())\n",
    "\n",
    "len_vocab = len(vocab)\n",
    "vocab_map = dict(zip(vocab,range(len_vocab)))"
   ]
  },
  {
   "cell_type": "code",
   "execution_count": null,
   "id": "eb02c6b6-ec29-4ecf-b81c-ab4e9218a84d",
   "metadata": {},
   "outputs": [],
   "source": [
    "# dataset\n",
    "# split\n",
    "# dataloader\n",
    "# train/val\n",
    "# test (metrics) "
   ]
  },
  {
   "cell_type": "markdown",
   "id": "e037f34e-8945-4d28-8d7b-aded83d5f422",
   "metadata": {},
   "source": [
    "### Stratified Split (train,val,test: 0.6, 0.2, 0.2) "
   ]
  },
  {
   "cell_type": "code",
   "execution_count": 40,
   "id": "0da6f390-3f23-4d0e-b499-cf937ca804e9",
   "metadata": {},
   "outputs": [],
   "source": [
    "# split\n",
    "from matplotlib import pyplot as plt\n",
    "df.columns = ['seq','label']"
   ]
  },
  {
   "cell_type": "code",
   "execution_count": 49,
   "id": "b3828c3e-5ebf-4437-b6e7-a418bd355620",
   "metadata": {},
   "outputs": [
    {
     "data": {
      "text/plain": [
       "0    25114\n",
       "1    11277\n",
       "Name: label, dtype: int64"
      ]
     },
     "execution_count": 49,
     "metadata": {},
     "output_type": "execute_result"
    }
   ],
   "source": [
    "df['label'].value_counts()"
   ]
  },
  {
   "cell_type": "code",
   "execution_count": 68,
   "id": "578eec6c-7d1b-4a98-81a0-4db41f89b329",
   "metadata": {},
   "outputs": [],
   "source": [
    "from sklearn.model_selection import train_test_split as tts\n",
    "a = tts(df,test_size=0.2,shuffle=True,stratify=df['label'],random_state=1004)"
   ]
  },
  {
   "cell_type": "code",
   "execution_count": 76,
   "id": "6efce7fc-0967-42df-b534-2ce3e090433e",
   "metadata": {},
   "outputs": [
    {
     "data": {
      "text/plain": [
       "0    20091\n",
       "1     9021\n",
       "Name: label, dtype: int64"
      ]
     },
     "execution_count": 76,
     "metadata": {},
     "output_type": "execute_result"
    }
   ],
   "source": [
    "a[0]['label'].value_counts()"
   ]
  },
  {
   "cell_type": "code",
   "execution_count": 74,
   "id": "e033d329-fc9a-4922-b5fe-c6cd8e6c0cb9",
   "metadata": {},
   "outputs": [
    {
     "data": {
      "text/plain": [
       "0    5023\n",
       "1    2256\n",
       "Name: label, dtype: int64"
      ]
     },
     "execution_count": 74,
     "metadata": {},
     "output_type": "execute_result"
    }
   ],
   "source": [
    "a[1]['label'].value_counts()"
   ]
  },
  {
   "cell_type": "code",
   "execution_count": 79,
   "id": "df7026b6-b29b-4af7-9c4a-581ec87d0ebe",
   "metadata": {},
   "outputs": [
    {
     "data": {
      "text/plain": [
       "(29112, 7279)"
      ]
     },
     "execution_count": 79,
     "metadata": {},
     "output_type": "execute_result"
    }
   ],
   "source": [
    "len(a[0]),len(a[1])"
   ]
  },
  {
   "cell_type": "code",
   "execution_count": 82,
   "id": "ee5fb3fc-5633-4e7e-8f40-2c6f764729cf",
   "metadata": {},
   "outputs": [],
   "source": [
    "tr,val = tts(a[0],test_size=0.25,shuffle=True,stratify=a[0]['label'],random_state=1004)\n",
    "te = a[1]"
   ]
  },
  {
   "cell_type": "code",
   "execution_count": 83,
   "id": "aa1704c5-8ced-44e0-8d9b-ba4686bd6e08",
   "metadata": {},
   "outputs": [
    {
     "data": {
      "text/plain": [
       "(21834, 7278, 7279)"
      ]
     },
     "execution_count": 83,
     "metadata": {},
     "output_type": "execute_result"
    }
   ],
   "source": [
    "len(tr),len(val),len(te)"
   ]
  },
  {
   "cell_type": "code",
   "execution_count": 89,
   "id": "6a2c2a18-9a52-4952-8250-a51831c750c2",
   "metadata": {},
   "outputs": [],
   "source": [
    "tr.to_csv('./data/split/train.csv',index_label='index')"
   ]
  },
  {
   "cell_type": "code",
   "execution_count": 90,
   "id": "5abda295-fd1b-489b-a4e8-2f05b22d180f",
   "metadata": {},
   "outputs": [],
   "source": [
    "val.to_csv('./data/split/val.csv',index_label='index')"
   ]
  },
  {
   "cell_type": "code",
   "execution_count": 92,
   "id": "945d3528-d056-47b3-8d70-581e1f7caf5c",
   "metadata": {},
   "outputs": [],
   "source": [
    "te.to_csv('./data/split/test.csv',index_label='index')"
   ]
  },
  {
   "cell_type": "markdown",
   "id": "69095cd6-7864-413e-b1e4-88857947b156",
   "metadata": {
    "tags": []
   },
   "source": [
    "### Dataset & DataLoader for pytorch "
   ]
  },
  {
   "cell_type": "code",
   "execution_count": 2,
   "id": "bf3a3cb7-727f-4708-af92-408da7fd1b4a",
   "metadata": {},
   "outputs": [],
   "source": [
    "def get_vocab_map(vocab_path='./data/vocab.txt'):\n",
    "    with open(vocab_path,'r') as f:\n",
    "        vocab = f.read()\n",
    "\n",
    "    vocab = vocab.replace('\\n','')\n",
    "\n",
    "    import re\n",
    "    p = re.compile('\\s+')\n",
    "    vocab = re.sub(p,' ',vocab)\n",
    "\n",
    "    import ast\n",
    "    vocab = ast.literal_eval(vocab.split('=')[1].strip())\n",
    "\n",
    "    len_vocab = len(vocab)\n",
    "    vocab_map = dict(zip(vocab,range(len_vocab)))\n",
    "    return vocab_map\n",
    "vocab_map =get_vocab_map()\n",
    "\n",
    "import torch\n",
    "from torch.nn import functional as F\n",
    "import pandas as pd\n",
    "class ProteinDataset(torch.utils.data.Dataset):\n",
    "    def __init__(self,path):\n",
    "        self.df = pd.read_csv(path)\n",
    "\n",
    "    def __getitem__(self,idx):\n",
    "        item = self.df.iloc[idx]\n",
    "        x = item['seq']\n",
    "        y = item['label']\n",
    "        \n",
    "        x = self.seq2oneHot(x)\n",
    "        y = torch.tensor(y)\n",
    "        # y = self.label2oneHot(y)\n",
    "        return x,y\n",
    "    \n",
    "    def __len__(self):\n",
    "        return len(self.df)\n",
    "    \n",
    "    def seq2oneHot(self,seq):\n",
    "        seq2int = [ vocab_map[x] for x in list(seq) ]\n",
    "        seq2int = torch.tensor(seq2int)\n",
    "        oneHot = F.one_hot(seq2int,num_classes=len(vocab_map) )\n",
    "        return oneHot\n",
    "    \n",
    "    def label2oneHot(self,label):\n",
    "        return F.one_hot(torch.tensor(label),num_classes=2)\n",
    "    \n",
    "\n",
    "trdt  = ProteinDataset('./data/split/train.csv')\n",
    "valdt = ProteinDataset('./data/split/val.csv')\n",
    "tedt  = ProteinDataset('./data/split/test.csv')\n",
    "\n",
    "trdl  = torch.utils.data.DataLoader(trdt, batch_size=64, num_workers=4)\n",
    "valdl  = torch.utils.data.DataLoader(valdt, batch_size=64, num_workers=4)\n",
    "tedl  = torch.utils.data.DataLoader(tedt, batch_size=32, num_workers=4)"
   ]
  },
  {
   "cell_type": "markdown",
   "id": "88175d20-7900-440d-b160-f3f8b97f72d8",
   "metadata": {},
   "source": [
    "### Model "
   ]
  },
  {
   "cell_type": "markdown",
   "id": "483832a4-5b8a-4f80-af4f-dd28886d69a6",
   "metadata": {},
   "source": [
    "|i|model | used|\n",
    "|---|--------| ----|\n",
    "|0  |ResNet| ✔|\n",
    "|1  | ResNext   |x|\n",
    "|2  | MaxFilterCNN|✔ |\n",
    "|3  | LSTM|     x|\n",
    "|4  |Self-attention|✔ |\n",
    "<!-- |5  ||✔ | -->\n"
   ]
  },
  {
   "cell_type": "code",
   "execution_count": 3,
   "id": "6593eab8-b25a-4215-a556-f162c4e2a07b",
   "metadata": {},
   "outputs": [],
   "source": [
    "# b,10,20\n",
    "from torch import nn\n",
    "class MaxFilterCNN(nn.Module):\n",
    "    def __init__(self):\n",
    "        super(MaxFilterCNN,self).__init__()\n",
    "        self.maxFconv = nn.Sequential(\n",
    "            nn.Conv2d(1,8,kernel_size=(3,20) ),\n",
    "            nn.BatchNorm2d(8),\n",
    "            nn.ReLU()\n",
    "        )\n",
    "        class squeeze(nn.Module):\n",
    "            def __init__(self):\n",
    "                super(squeeze,self).__init__()\n",
    "            def forward(self,x):\n",
    "                x = x.squeeze(-1)\n",
    "                return x\n",
    "        self.sq = squeeze()\n",
    "        self.conv1d0 = nn.Sequential(\n",
    "                    nn.Conv1d(8,8,kernel_size=3),\n",
    "                    # nn.MaxPool1d(2),\n",
    "                    nn.BatchNorm1d(8),\n",
    "                    nn.ReLU()\n",
    "                )\n",
    "        self.conv1d1 = nn.Sequential(\n",
    "                    nn.Conv1d(8,8,kernel_size=2),\n",
    "                    # nn.MaxPool1d(2),\n",
    "                    nn.BatchNorm1d(8),\n",
    "                    nn.ReLU()\n",
    "                )\n",
    "\n",
    "        mli = nn.ModuleList([self.maxFconv,self.sq,self.conv1d0,self.conv1d1])\n",
    "        sample = torch.rand(1,1,10,20)\n",
    "        for f in mli:\n",
    "            sample = f(sample)\n",
    "        b,c,l = sample.shape\n",
    "        num_node  = c*l \n",
    "\n",
    "        self.last = nn.Sequential(\n",
    "                    nn.Flatten(),\n",
    "                    nn.Linear(num_node,2)\n",
    "                )\n",
    "    def forward(self,x):\n",
    "        x = x.to(torch.float)\n",
    "        x = x.unsqueeze(1)\n",
    "        x = self.maxFconv(x)\n",
    "        x = self.sq(x)\n",
    "        x = self.conv1d0(x)\n",
    "        x = self.conv1d1(x)\n",
    "        x = self.last(x)\n",
    "        return x\n",
    "        "
   ]
  },
  {
   "cell_type": "code",
   "execution_count": 4,
   "id": "e90ae2ca-c222-436a-958f-ce847d705c12",
   "metadata": {},
   "outputs": [],
   "source": [
    "device = 'cuda' if torch.cuda.is_available() else 'cpu'\n",
    "model = MaxFilterCNN().to(device)\n",
    "loss = nn.CrossEntropyLoss()\n",
    "params = [p for p in model.parameters() if p.requires_grad]\n",
    "opt  = torch.optim.Adam(params)"
   ]
  },
  {
   "cell_type": "markdown",
   "id": "63d234a8-49b6-4d87-84e4-7ee93dd856a3",
   "metadata": {},
   "source": [
    "### train/val/test "
   ]
  },
  {
   "cell_type": "code",
   "execution_count": 5,
   "id": "06c16378-c731-4f61-898c-5da2e6442216",
   "metadata": {},
   "outputs": [
    {
     "name": "stdout",
     "output_type": "stream",
     "text": [
      "acc/loss: 0.8185/0.0063\n",
      "acc/loss: 0.8331/0.006\n",
      "acc/loss: 0.8376/0.0059\n",
      "acc/loss: 0.8399/0.0058\n",
      "acc/loss: 0.8395/0.0058\n",
      "acc/loss: 0.841/0.0058\n",
      "acc/loss: 0.8423/0.0058\n",
      "acc/loss: 0.8428/0.0058\n",
      "acc/loss: 0.8435/0.0057\n",
      "acc/loss: 0.8438/0.0057\n",
      "acc/loss: 0.8434/0.0057\n",
      "acc/loss: 0.8431/0.0057\n",
      "acc/loss: 0.8427/0.0057\n",
      "acc/loss: 0.8424/0.0057\n",
      "acc/loss: 0.8439/0.0058\n",
      "acc/loss: 0.8427/0.0058\n",
      "acc/loss: 0.842/0.0058\n",
      "acc/loss: 0.8424/0.0058\n",
      "acc/loss: 0.8428/0.0058\n",
      "acc/loss: 0.8427/0.0058\n"
     ]
    }
   ],
   "source": [
    "def train(dl,model,lossf,opt):\n",
    "    model.train()\n",
    "    for x,y in dl:\n",
    "        x,y = x.to(device),y.to(device)\n",
    "        pre = model(x)\n",
    "        loss = lossf(pre,y)\n",
    "\n",
    "        opt.zero_grad()\n",
    "        loss.backward()\n",
    "        opt.step()\n",
    "\n",
    "def test(dl,model,lossf):\n",
    "    model.eval()\n",
    "    size, acc , losses = len(dl.dataset) ,0,0\n",
    "    with torch.no_grad():\n",
    "        for x,y in dl:\n",
    "            x,y = x.to(device),y.to(device)\n",
    "            pre = model(x)\n",
    "            loss = lossf(pre,y)\n",
    "    \n",
    "            acc += (pre.argmax(1)==y).type(torch.float).sum().item()\n",
    "            losses += loss.item()\n",
    "    accuracy = round(acc/size,4)\n",
    "    val_loss = round(losses/size,4)\n",
    "    print(f'acc/loss: {accuracy}/{val_loss}')\n",
    "    return accuracy,val_loss\n",
    "\n",
    "import copy\n",
    "patience = 5\n",
    "val_losses = {0:0}\n",
    "for i in range(100):\n",
    "    train(trdl,model,loss,opt)\n",
    "    acc,val_loss = test(valdl,model,loss)\n",
    "    \n",
    "    \n",
    "    if max(val_losses.values() ) < acc:\n",
    "        val_losses[i] = acc\n",
    "        best_model = copy.copy(model)\n",
    "    if i == max(val_losses,key=val_losses.get)+patience:\n",
    "        break"
   ]
  }
 ],
 "metadata": {
  "kernelspec": {
   "display_name": "torch",
   "language": "python",
   "name": "torch"
  },
  "language_info": {
   "codemirror_mode": {
    "name": "ipython",
    "version": 3
   },
   "file_extension": ".py",
   "mimetype": "text/x-python",
   "name": "python",
   "nbconvert_exporter": "python",
   "pygments_lexer": "ipython3",
   "version": "3.6.13"
  }
 },
 "nbformat": 4,
 "nbformat_minor": 5
}
